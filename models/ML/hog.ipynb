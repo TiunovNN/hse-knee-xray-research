{
 "cells": [
  {
   "cell_type": "code",
   "execution_count": 7,
   "metadata": {
    "collapsed": true
   },
   "outputs": [],
   "source": [
    "%load_ext dotenv\n",
    "%dotenv\n",
    "import os\n",
    "\n",
    "import pandas as pd\n",
    "import numpy as np\n",
    "import matplotlib.pyplot as plt\n",
    "import boto3\n",
    "\n",
    "\n",
    "s3_client = boto3.client(\n",
    "    's3',\n",
    "    endpoint_url='https://storage.yandexcloud.net',\n",
    "    aws_access_key_id=os.getenv('AWS_ACCESS_KEY_ID'),\n",
    "    aws_secret_access_key=os.getenv('AWS_SECRET_ACCESS_KEY'),\n",
    ")\n",
    "BUCKET_NAME = 'tnn-hse-medtech'\n",
    "DATASET_DIR = 'datasets/'\n"
   ]
  },
  {
   "cell_type": "code",
   "execution_count": 13,
   "outputs": [],
   "source": [
    "data = pd.read_csv('normalized_data.csv')"
   ],
   "metadata": {
    "collapsed": false
   }
  },
  {
   "cell_type": "code",
   "execution_count": 10,
   "outputs": [],
   "source": [
    "from skimage.feature import hog\n",
    "from PIL import Image\n",
    "\n",
    "def hog_picture(image: Image):\n",
    "    vector = hog(\n",
    "        np.asarray(image),\n",
    "        orientations=8,\n",
    "        pixels_per_cell=(16, 16),\n",
    "        cells_per_block=(1, 1),\n",
    "        channel_axis=-1,\n",
    "        feature_vector=True,\n",
    "    )\n",
    "    return vector\n"
   ],
   "metadata": {
    "collapsed": false
   }
  },
  {
   "cell_type": "code",
   "execution_count": 14,
   "outputs": [
    {
     "data": {
      "text/plain": "IntProgress(value=0, max=3278)",
      "application/vnd.jupyter.widget-view+json": {
       "version_major": 2,
       "version_minor": 0,
       "model_id": "d6c05816fc02426ebea0617ad1a8c76d"
      }
     },
     "metadata": {},
     "output_type": "display_data"
    },
    {
     "ename": "ValueError",
     "evalue": "Only images with two spatial dimensions are supported. If using with color/multichannel images, specify `channel_axis`.",
     "output_type": "error",
     "traceback": [
      "\u001B[0;31m---------------------------------------------------------------------------\u001B[0m",
      "\u001B[0;31mValueError\u001B[0m                                Traceback (most recent call last)",
      "Cell \u001B[0;32mIn[14], line 26\u001B[0m\n\u001B[1;32m     24\u001B[0m display(progress)\n\u001B[1;32m     25\u001B[0m \u001B[38;5;28;01mwith\u001B[39;00m ThreadPoolExecutor(max_workers\u001B[38;5;241m=\u001B[39m\u001B[38;5;241m50\u001B[39m) \u001B[38;5;28;01mas\u001B[39;00m pool:\n\u001B[0;32m---> 26\u001B[0m     \u001B[38;5;28;01mfor\u001B[39;00m item \u001B[38;5;129;01min\u001B[39;00m pool\u001B[38;5;241m.\u001B[39mmap(handle_file, data\u001B[38;5;241m.\u001B[39mitertuples()):\n\u001B[1;32m     27\u001B[0m         raw_data\u001B[38;5;241m.\u001B[39mappend(item)\n\u001B[1;32m     28\u001B[0m         progress\u001B[38;5;241m.\u001B[39mvalue \u001B[38;5;241m+\u001B[39m\u001B[38;5;241m=\u001B[39m \u001B[38;5;241m1\u001B[39m\n",
      "File \u001B[0;32m/Library/Frameworks/Python.framework/Versions/3.10/lib/python3.10/concurrent/futures/_base.py:609\u001B[0m, in \u001B[0;36mExecutor.map.<locals>.result_iterator\u001B[0;34m()\u001B[0m\n\u001B[1;32m    606\u001B[0m \u001B[38;5;28;01mwhile\u001B[39;00m fs:\n\u001B[1;32m    607\u001B[0m     \u001B[38;5;66;03m# Careful not to keep a reference to the popped future\u001B[39;00m\n\u001B[1;32m    608\u001B[0m     \u001B[38;5;28;01mif\u001B[39;00m timeout \u001B[38;5;129;01mis\u001B[39;00m \u001B[38;5;28;01mNone\u001B[39;00m:\n\u001B[0;32m--> 609\u001B[0m         \u001B[38;5;28;01myield\u001B[39;00m \u001B[43mfs\u001B[49m\u001B[38;5;241;43m.\u001B[39;49m\u001B[43mpop\u001B[49m\u001B[43m(\u001B[49m\u001B[43m)\u001B[49m\u001B[38;5;241;43m.\u001B[39;49m\u001B[43mresult\u001B[49m\u001B[43m(\u001B[49m\u001B[43m)\u001B[49m\n\u001B[1;32m    610\u001B[0m     \u001B[38;5;28;01melse\u001B[39;00m:\n\u001B[1;32m    611\u001B[0m         \u001B[38;5;28;01myield\u001B[39;00m fs\u001B[38;5;241m.\u001B[39mpop()\u001B[38;5;241m.\u001B[39mresult(end_time \u001B[38;5;241m-\u001B[39m time\u001B[38;5;241m.\u001B[39mmonotonic())\n",
      "File \u001B[0;32m/Library/Frameworks/Python.framework/Versions/3.10/lib/python3.10/concurrent/futures/_base.py:446\u001B[0m, in \u001B[0;36mFuture.result\u001B[0;34m(self, timeout)\u001B[0m\n\u001B[1;32m    444\u001B[0m     \u001B[38;5;28;01mraise\u001B[39;00m CancelledError()\n\u001B[1;32m    445\u001B[0m \u001B[38;5;28;01melif\u001B[39;00m \u001B[38;5;28mself\u001B[39m\u001B[38;5;241m.\u001B[39m_state \u001B[38;5;241m==\u001B[39m FINISHED:\n\u001B[0;32m--> 446\u001B[0m     \u001B[38;5;28;01mreturn\u001B[39;00m \u001B[38;5;28;43mself\u001B[39;49m\u001B[38;5;241;43m.\u001B[39;49m\u001B[43m__get_result\u001B[49m\u001B[43m(\u001B[49m\u001B[43m)\u001B[49m\n\u001B[1;32m    447\u001B[0m \u001B[38;5;28;01melse\u001B[39;00m:\n\u001B[1;32m    448\u001B[0m     \u001B[38;5;28;01mraise\u001B[39;00m \u001B[38;5;167;01mTimeoutError\u001B[39;00m()\n",
      "File \u001B[0;32m/Library/Frameworks/Python.framework/Versions/3.10/lib/python3.10/concurrent/futures/_base.py:391\u001B[0m, in \u001B[0;36mFuture.__get_result\u001B[0;34m(self)\u001B[0m\n\u001B[1;32m    389\u001B[0m \u001B[38;5;28;01mif\u001B[39;00m \u001B[38;5;28mself\u001B[39m\u001B[38;5;241m.\u001B[39m_exception:\n\u001B[1;32m    390\u001B[0m     \u001B[38;5;28;01mtry\u001B[39;00m:\n\u001B[0;32m--> 391\u001B[0m         \u001B[38;5;28;01mraise\u001B[39;00m \u001B[38;5;28mself\u001B[39m\u001B[38;5;241m.\u001B[39m_exception\n\u001B[1;32m    392\u001B[0m     \u001B[38;5;28;01mfinally\u001B[39;00m:\n\u001B[1;32m    393\u001B[0m         \u001B[38;5;66;03m# Break a reference cycle with the exception in self._exception\u001B[39;00m\n\u001B[1;32m    394\u001B[0m         \u001B[38;5;28mself\u001B[39m \u001B[38;5;241m=\u001B[39m \u001B[38;5;28;01mNone\u001B[39;00m\n",
      "File \u001B[0;32m/Library/Frameworks/Python.framework/Versions/3.10/lib/python3.10/concurrent/futures/thread.py:58\u001B[0m, in \u001B[0;36m_WorkItem.run\u001B[0;34m(self)\u001B[0m\n\u001B[1;32m     55\u001B[0m     \u001B[38;5;28;01mreturn\u001B[39;00m\n\u001B[1;32m     57\u001B[0m \u001B[38;5;28;01mtry\u001B[39;00m:\n\u001B[0;32m---> 58\u001B[0m     result \u001B[38;5;241m=\u001B[39m \u001B[38;5;28;43mself\u001B[39;49m\u001B[38;5;241;43m.\u001B[39;49m\u001B[43mfn\u001B[49m\u001B[43m(\u001B[49m\u001B[38;5;241;43m*\u001B[39;49m\u001B[38;5;28;43mself\u001B[39;49m\u001B[38;5;241;43m.\u001B[39;49m\u001B[43margs\u001B[49m\u001B[43m,\u001B[49m\u001B[43m \u001B[49m\u001B[38;5;241;43m*\u001B[39;49m\u001B[38;5;241;43m*\u001B[39;49m\u001B[38;5;28;43mself\u001B[39;49m\u001B[38;5;241;43m.\u001B[39;49m\u001B[43mkwargs\u001B[49m\u001B[43m)\u001B[49m\n\u001B[1;32m     59\u001B[0m \u001B[38;5;28;01mexcept\u001B[39;00m \u001B[38;5;167;01mBaseException\u001B[39;00m \u001B[38;5;28;01mas\u001B[39;00m exc:\n\u001B[1;32m     60\u001B[0m     \u001B[38;5;28mself\u001B[39m\u001B[38;5;241m.\u001B[39mfuture\u001B[38;5;241m.\u001B[39mset_exception(exc)\n",
      "Cell \u001B[0;32mIn[14], line 19\u001B[0m, in \u001B[0;36mhandle_file\u001B[0;34m(item)\u001B[0m\n\u001B[1;32m     17\u001B[0m buffer\u001B[38;5;241m.\u001B[39mseek(\u001B[38;5;241m0\u001B[39m)\n\u001B[1;32m     18\u001B[0m img \u001B[38;5;241m=\u001B[39m Image\u001B[38;5;241m.\u001B[39mopen(buffer)\n\u001B[0;32m---> 19\u001B[0m hog_fd \u001B[38;5;241m=\u001B[39m \u001B[43mhog_picture\u001B[49m\u001B[43m(\u001B[49m\u001B[43mImageOps\u001B[49m\u001B[38;5;241;43m.\u001B[39;49m\u001B[43mgrayscale\u001B[49m\u001B[43m(\u001B[49m\u001B[43mimg\u001B[49m\u001B[43m)\u001B[49m\u001B[43m)\u001B[49m\n\u001B[1;32m     20\u001B[0m \u001B[38;5;28;01mreturn\u001B[39;00m Metadata(item\u001B[38;5;241m.\u001B[39mseverity, item\u001B[38;5;241m.\u001B[39mrelative_path, hog_fd)\n",
      "Cell \u001B[0;32mIn[10], line 5\u001B[0m, in \u001B[0;36mhog_picture\u001B[0;34m(image)\u001B[0m\n\u001B[1;32m      4\u001B[0m \u001B[38;5;28;01mdef\u001B[39;00m \u001B[38;5;21mhog_picture\u001B[39m(image: Image):\n\u001B[0;32m----> 5\u001B[0m     vector \u001B[38;5;241m=\u001B[39m \u001B[43mhog\u001B[49m\u001B[43m(\u001B[49m\n\u001B[1;32m      6\u001B[0m \u001B[43m        \u001B[49m\u001B[43mnp\u001B[49m\u001B[38;5;241;43m.\u001B[39;49m\u001B[43masarray\u001B[49m\u001B[43m(\u001B[49m\u001B[43mimage\u001B[49m\u001B[43m)\u001B[49m\u001B[43m,\u001B[49m\n\u001B[1;32m      7\u001B[0m \u001B[43m        \u001B[49m\u001B[43morientations\u001B[49m\u001B[38;5;241;43m=\u001B[39;49m\u001B[38;5;241;43m8\u001B[39;49m\u001B[43m,\u001B[49m\n\u001B[1;32m      8\u001B[0m \u001B[43m        \u001B[49m\u001B[43mpixels_per_cell\u001B[49m\u001B[38;5;241;43m=\u001B[39;49m\u001B[43m(\u001B[49m\u001B[38;5;241;43m16\u001B[39;49m\u001B[43m,\u001B[49m\u001B[43m \u001B[49m\u001B[38;5;241;43m16\u001B[39;49m\u001B[43m)\u001B[49m\u001B[43m,\u001B[49m\n\u001B[1;32m      9\u001B[0m \u001B[43m        \u001B[49m\u001B[43mcells_per_block\u001B[49m\u001B[38;5;241;43m=\u001B[39;49m\u001B[43m(\u001B[49m\u001B[38;5;241;43m1\u001B[39;49m\u001B[43m,\u001B[49m\u001B[43m \u001B[49m\u001B[38;5;241;43m1\u001B[39;49m\u001B[43m)\u001B[49m\u001B[43m,\u001B[49m\n\u001B[1;32m     10\u001B[0m \u001B[43m        \u001B[49m\u001B[43mchannel_axis\u001B[49m\u001B[38;5;241;43m=\u001B[39;49m\u001B[38;5;241;43m-\u001B[39;49m\u001B[38;5;241;43m1\u001B[39;49m\u001B[43m,\u001B[49m\n\u001B[1;32m     11\u001B[0m \u001B[43m        \u001B[49m\u001B[43mfeature_vector\u001B[49m\u001B[38;5;241;43m=\u001B[39;49m\u001B[38;5;28;43;01mTrue\u001B[39;49;00m\u001B[43m,\u001B[49m\n\u001B[1;32m     12\u001B[0m \u001B[43m    \u001B[49m\u001B[43m)\u001B[49m\n\u001B[1;32m     13\u001B[0m     \u001B[38;5;28;01mreturn\u001B[39;00m vector\n",
      "File \u001B[0;32m~/git/hse-knee-xray-research/EDA/venv/lib/python3.10/site-packages/skimage/_shared/utils.py:328\u001B[0m, in \u001B[0;36mchannel_as_last_axis.__call__.<locals>.fixed_func\u001B[0;34m(*args, **kwargs)\u001B[0m\n\u001B[1;32m    324\u001B[0m     \u001B[38;5;28;01mraise\u001B[39;00m \u001B[38;5;167;01mValueError\u001B[39;00m(\n\u001B[1;32m    325\u001B[0m         \u001B[38;5;124m\"\u001B[39m\u001B[38;5;124monly a single channel axis is currently supported\u001B[39m\u001B[38;5;124m\"\u001B[39m)\n\u001B[1;32m    327\u001B[0m \u001B[38;5;28;01mif\u001B[39;00m channel_axis \u001B[38;5;241m==\u001B[39m (\u001B[38;5;241m-\u001B[39m\u001B[38;5;241m1\u001B[39m,) \u001B[38;5;129;01mor\u001B[39;00m channel_axis \u001B[38;5;241m==\u001B[39m \u001B[38;5;241m-\u001B[39m\u001B[38;5;241m1\u001B[39m:\n\u001B[0;32m--> 328\u001B[0m     \u001B[38;5;28;01mreturn\u001B[39;00m \u001B[43mfunc\u001B[49m\u001B[43m(\u001B[49m\u001B[38;5;241;43m*\u001B[39;49m\u001B[43margs\u001B[49m\u001B[43m,\u001B[49m\u001B[43m \u001B[49m\u001B[38;5;241;43m*\u001B[39;49m\u001B[38;5;241;43m*\u001B[39;49m\u001B[43mkwargs\u001B[49m\u001B[43m)\u001B[49m\n\u001B[1;32m    330\u001B[0m \u001B[38;5;28;01mif\u001B[39;00m \u001B[38;5;28mself\u001B[39m\u001B[38;5;241m.\u001B[39marg_positions:\n\u001B[1;32m    331\u001B[0m     new_args \u001B[38;5;241m=\u001B[39m []\n",
      "File \u001B[0;32m~/git/hse-knee-xray-research/EDA/venv/lib/python3.10/site-packages/skimage/feature/_hog.py:156\u001B[0m, in \u001B[0;36mhog\u001B[0;34m(image, orientations, pixels_per_cell, cells_per_block, block_norm, visualize, transform_sqrt, feature_vector, channel_axis)\u001B[0m\n\u001B[1;32m    154\u001B[0m ndim_spatial \u001B[38;5;241m=\u001B[39m image\u001B[38;5;241m.\u001B[39mndim \u001B[38;5;241m-\u001B[39m \u001B[38;5;241m1\u001B[39m \u001B[38;5;28;01mif\u001B[39;00m multichannel \u001B[38;5;28;01melse\u001B[39;00m image\u001B[38;5;241m.\u001B[39mndim\n\u001B[1;32m    155\u001B[0m \u001B[38;5;28;01mif\u001B[39;00m ndim_spatial \u001B[38;5;241m!=\u001B[39m \u001B[38;5;241m2\u001B[39m:\n\u001B[0;32m--> 156\u001B[0m     \u001B[38;5;28;01mraise\u001B[39;00m \u001B[38;5;167;01mValueError\u001B[39;00m(\u001B[38;5;124m'\u001B[39m\u001B[38;5;124mOnly images with two spatial dimensions are \u001B[39m\u001B[38;5;124m'\u001B[39m\n\u001B[1;32m    157\u001B[0m                      \u001B[38;5;124m'\u001B[39m\u001B[38;5;124msupported. If using with color/multichannel \u001B[39m\u001B[38;5;124m'\u001B[39m\n\u001B[1;32m    158\u001B[0m                      \u001B[38;5;124m'\u001B[39m\u001B[38;5;124mimages, specify `channel_axis`.\u001B[39m\u001B[38;5;124m'\u001B[39m)\n\u001B[1;32m    160\u001B[0m \u001B[38;5;250m\u001B[39m\u001B[38;5;124;03m\"\"\"\u001B[39;00m\n\u001B[1;32m    161\u001B[0m \u001B[38;5;124;03mThe first stage applies an optional global image normalization\u001B[39;00m\n\u001B[1;32m    162\u001B[0m \u001B[38;5;124;03mequalisation that is designed to reduce the influence of illumination\u001B[39;00m\n\u001B[0;32m   (...)\u001B[0m\n\u001B[1;32m    167\u001B[0m \u001B[38;5;124;03mshadowing and illumination variations.\u001B[39;00m\n\u001B[1;32m    168\u001B[0m \u001B[38;5;124;03m\"\"\"\u001B[39;00m\n\u001B[1;32m    170\u001B[0m \u001B[38;5;28;01mif\u001B[39;00m transform_sqrt:\n",
      "\u001B[0;31mValueError\u001B[0m: Only images with two spatial dimensions are supported. If using with color/multichannel images, specify `channel_axis`."
     ]
    }
   ],
   "source": [
    "import io\n",
    "from dataclasses import dataclass\n",
    "from concurrent.futures import ThreadPoolExecutor\n",
    "from PIL import Image, ImageOps\n",
    "from ipywidgets import IntProgress\n",
    "from IPython.display import display\n",
    "\n",
    "@dataclass()\n",
    "class Metadata:\n",
    "    severity: int\n",
    "    relative_path: str\n",
    "    hog: np.array\n",
    "\n",
    "def handle_file(item) -> Metadata:\n",
    "    buffer = io.BytesIO()\n",
    "    s3_client.download_fileobj(BUCKET_NAME, f'{DATASET_DIR}{item.relative_path}', buffer)\n",
    "    buffer.seek(0)\n",
    "    img = Image.open(buffer)\n",
    "    hog_fd = hog_picture(ImageOps.grayscale(img))\n",
    "    return Metadata(item.severity, item.relative_path, hog_fd)\n",
    "\n",
    "raw_data = []\n",
    "progress = IntProgress(min=0, max=len(data))\n",
    "display(progress)\n",
    "with ThreadPoolExecutor(max_workers=50) as pool:\n",
    "    for item in pool.map(handle_file, data.itertuples()):\n",
    "        raw_data.append(item)\n",
    "        progress.value += 1\n"
   ],
   "metadata": {
    "collapsed": false
   }
  },
  {
   "cell_type": "code",
   "execution_count": null,
   "outputs": [],
   "source": [],
   "metadata": {
    "collapsed": false
   }
  }
 ],
 "metadata": {
  "kernelspec": {
   "display_name": "Python 3",
   "language": "python",
   "name": "python3"
  },
  "language_info": {
   "codemirror_mode": {
    "name": "ipython",
    "version": 2
   },
   "file_extension": ".py",
   "mimetype": "text/x-python",
   "name": "python",
   "nbconvert_exporter": "python",
   "pygments_lexer": "ipython2",
   "version": "2.7.6"
  }
 },
 "nbformat": 4,
 "nbformat_minor": 0
}

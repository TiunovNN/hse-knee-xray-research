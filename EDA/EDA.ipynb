{
 "cells": [
  {
   "cell_type": "markdown",
   "metadata": {
    "collapsed": false
   },
   "source": [
    "# Разведочный анализ данных\n",
    "\n",
    "Набор данных состоит из 1655 цифровых рентгеновских изображений коленного сустава. Исходные изображения представляют собой 8-битные изображения в оттенках серого. Каждое рентгенологическое рентгеновское изображение коленного сустава вручную классифицировано в соответствии со специальными медицинскими оценками двумя экспертами на 5 классов.\n",
    "\n",
    "Эксперт I:\n",
    "\n",
    "1. Normal (515 шт.)\n",
    "1. Doubtful (478 шт.)\n",
    "2. Mild (233 шт.)\n",
    "1. Moderate (222 шт.)\n",
    "1. Severe (207 шт.)\n",
    "\n",
    "\n",
    "Эксперт II:\n",
    "\n",
    "1. Normal (504 шт.)\n",
    "1. Doubtful (489 шт.)\n",
    "1. Mild (233 шт.)\n",
    "1. Moderate (222 шт.)\n",
    "1. Severe (207 шт.)\n",
    "\n",
    "Ссылка на данные: https://tnn-hse-medtech.storage.yandexcloud.net/datasets/"
   ]
  },
  {
   "cell_type": "markdown",
   "metadata": {
    "collapsed": false
   },
   "source": [
    "## Предварительная настройка"
   ]
  },
  {
   "cell_type": "code",
   "execution_count": 4,
   "outputs": [
    {
     "name": "stdout",
     "output_type": "stream",
     "text": [
      "Collecting python-dotenv\r\n",
      "  Downloading python_dotenv-1.0.0-py3-none-any.whl (19 kB)\r\n",
      "Installing collected packages: python-dotenv\r\n",
      "Successfully installed python-dotenv-1.0.0\r\n"
     ]
    }
   ],
   "source": [
    "!pip install python-dotenv"
   ],
   "metadata": {
    "collapsed": false
   }
  },
  {
   "cell_type": "code",
   "execution_count": 5,
   "outputs": [],
   "source": [
    "%load_ext dotenv\n",
    "%dotenv"
   ],
   "metadata": {
    "collapsed": false
   }
  },
  {
   "cell_type": "code",
   "execution_count": 6,
   "metadata": {
    "collapsed": false
   },
   "outputs": [],
   "source": [
    "import os\n",
    "\n",
    "import pandas as pd\n",
    "import numpy as np\n",
    "import matplotlib.pyplot as plt\n",
    "import boto3\n",
    "\n",
    "\n",
    "s3_client = boto3.client(\n",
    "    's3',\n",
    "    endpoint_url='https://storage.yandexcloud.net',\n",
    "    aws_access_key_id=os.getenv('AWS_ACCESS_KEY_ID'),\n",
    "    aws_secret_access_key=os.getenv('AWS_SECRET_ACCESS_KEY'),\n",
    ")\n",
    "BUCKET_NAME = 'tnn-hse-medtech'\n",
    "DATASET_DIR = 'datasets/'\n"
   ]
  },
  {
   "cell_type": "markdown",
   "metadata": {
    "collapsed": false
   },
   "source": [
    "## Собираем метаданные датасета"
   ]
  },
  {
   "cell_type": "code",
   "execution_count": 9,
   "metadata": {
    "collapsed": false
   },
   "outputs": [
    {
     "data": {
      "text/plain": "IntProgress(value=0, max=3300)",
      "application/vnd.jupyter.widget-view+json": {
       "version_major": 2,
       "version_minor": 0,
       "model_id": "dcb8c114534a40589bfa85e8f7421d29"
      }
     },
     "metadata": {},
     "output_type": "display_data"
    }
   ],
   "source": [
    "import io\n",
    "import hashlib\n",
    "from dataclasses import dataclass\n",
    "from concurrent.futures import ThreadPoolExecutor\n",
    "from ipywidgets import IntProgress\n",
    "from IPython.display import display\n",
    "\n",
    "\n",
    "@dataclass()\n",
    "class Metadata:\n",
    "    expert: str\n",
    "    file_id: str\n",
    "    severity: int\n",
    "    relative_path: str\n",
    "\n",
    "\n",
    "def parse_path(key: str) -> Metadata:\n",
    "    buffer = io.BytesIO()\n",
    "    s3_client.download_fileobj(BUCKET_NAME, key, buffer)\n",
    "    data_bytes = buffer.getvalue()\n",
    "    hash1 = hashlib.sha256(data_bytes).hexdigest()\n",
    "    hash2 = hashlib.md5(data_bytes).hexdigest()\n",
    "    path = key.removeprefix(DATASET_DIR)\n",
    "    expert, severity, _ = path.split('/')\n",
    "    return Metadata(expert, f'{hash1}:{hash2}', severity, path)\n",
    "\n",
    "def iterate_by_files():\n",
    "    paginator = s3_client.get_paginator('list_objects')\n",
    "    result = paginator.paginate(Bucket=BUCKET_NAME, Prefix=DATASET_DIR)\n",
    "    for page in result:\n",
    "        for s3_object in page['Contents']:\n",
    "            if s3_object['Key'].endswith('.png'):\n",
    "                yield s3_object['Key']\n",
    "\n",
    "\n",
    "raw_data = []\n",
    "files = list(iterate_by_files())\n",
    "progress = IntProgress(min=0, max=len(files))\n",
    "display(progress)\n",
    "with ThreadPoolExecutor(max_workers=50) as pool:\n",
    "    for data in pool.map(parse_path, files):\n",
    "        raw_data.append(data)\n",
    "        progress.value += 1\n"
   ]
  },
  {
   "cell_type": "markdown",
   "metadata": {
    "collapsed": false
   },
   "source": [
    "# Формирует датасет\n"
   ]
  },
  {
   "cell_type": "code",
   "execution_count": 10,
   "metadata": {
    "collapsed": false
   },
   "outputs": [
    {
     "data": {
      "text/plain": "                expert                                            file_id  \\\n0      MedicalExpert-I  c7284c66fa8ec0ab4594e5dcd44866f408238f685e999e...   \n1      MedicalExpert-I  4a547b94fe02a7565beb21aa9195f4deffe831086da240...   \n2      MedicalExpert-I  ca8a296d1e15e0ed84c1ab82440426f28cd0582c19964f...   \n3      MedicalExpert-I  6f8bb6bbf0f4def4fdbe1a486064e47eefed0fa832246c...   \n4      MedicalExpert-I  d3c8f051ee6c5f59dff4657b7c007860be652e313d85ab...   \n...                ...                                                ...   \n3295  MedicalExpert-II  a762fc9fda75a15538789eb78b53a7ca12631e3c59993d...   \n3296  MedicalExpert-II  0ab9e6787dd93e3ad8505c6dcbafa955b91554b026c014...   \n3297  MedicalExpert-II  1b3dba34278b1ba238c7051be6886cab2cc2c1c985d368...   \n3298  MedicalExpert-II  3338d1a673dd92b49fc1967f0f3cea6bc645fea48bb84b...   \n3299  MedicalExpert-II  8bf89927b1adc0b27fde55d015cd285cf6be47099a31b9...   \n\n     severity                               relative_path  \n0     0Normal    MedicalExpert-I/0Normal/NormalG0 (1).png  \n1     0Normal   MedicalExpert-I/0Normal/NormalG0 (10).png  \n2     0Normal  MedicalExpert-I/0Normal/NormalG0 (100).png  \n3     0Normal  MedicalExpert-I/0Normal/NormalG0 (101).png  \n4     0Normal  MedicalExpert-I/0Normal/NormalG0 (102).png  \n...       ...                                         ...  \n3295  4Severe  MedicalExpert-II/4Severe/SevereG4 (95).png  \n3296  4Severe  MedicalExpert-II/4Severe/SevereG4 (96).png  \n3297  4Severe  MedicalExpert-II/4Severe/SevereG4 (97).png  \n3298  4Severe  MedicalExpert-II/4Severe/SevereG4 (98).png  \n3299  4Severe  MedicalExpert-II/4Severe/SevereG4 (99).png  \n\n[3300 rows x 4 columns]",
      "text/html": "<div>\n<style scoped>\n    .dataframe tbody tr th:only-of-type {\n        vertical-align: middle;\n    }\n\n    .dataframe tbody tr th {\n        vertical-align: top;\n    }\n\n    .dataframe thead th {\n        text-align: right;\n    }\n</style>\n<table border=\"1\" class=\"dataframe\">\n  <thead>\n    <tr style=\"text-align: right;\">\n      <th></th>\n      <th>expert</th>\n      <th>file_id</th>\n      <th>severity</th>\n      <th>relative_path</th>\n    </tr>\n  </thead>\n  <tbody>\n    <tr>\n      <th>0</th>\n      <td>MedicalExpert-I</td>\n      <td>c7284c66fa8ec0ab4594e5dcd44866f408238f685e999e...</td>\n      <td>0Normal</td>\n      <td>MedicalExpert-I/0Normal/NormalG0 (1).png</td>\n    </tr>\n    <tr>\n      <th>1</th>\n      <td>MedicalExpert-I</td>\n      <td>4a547b94fe02a7565beb21aa9195f4deffe831086da240...</td>\n      <td>0Normal</td>\n      <td>MedicalExpert-I/0Normal/NormalG0 (10).png</td>\n    </tr>\n    <tr>\n      <th>2</th>\n      <td>MedicalExpert-I</td>\n      <td>ca8a296d1e15e0ed84c1ab82440426f28cd0582c19964f...</td>\n      <td>0Normal</td>\n      <td>MedicalExpert-I/0Normal/NormalG0 (100).png</td>\n    </tr>\n    <tr>\n      <th>3</th>\n      <td>MedicalExpert-I</td>\n      <td>6f8bb6bbf0f4def4fdbe1a486064e47eefed0fa832246c...</td>\n      <td>0Normal</td>\n      <td>MedicalExpert-I/0Normal/NormalG0 (101).png</td>\n    </tr>\n    <tr>\n      <th>4</th>\n      <td>MedicalExpert-I</td>\n      <td>d3c8f051ee6c5f59dff4657b7c007860be652e313d85ab...</td>\n      <td>0Normal</td>\n      <td>MedicalExpert-I/0Normal/NormalG0 (102).png</td>\n    </tr>\n    <tr>\n      <th>...</th>\n      <td>...</td>\n      <td>...</td>\n      <td>...</td>\n      <td>...</td>\n    </tr>\n    <tr>\n      <th>3295</th>\n      <td>MedicalExpert-II</td>\n      <td>a762fc9fda75a15538789eb78b53a7ca12631e3c59993d...</td>\n      <td>4Severe</td>\n      <td>MedicalExpert-II/4Severe/SevereG4 (95).png</td>\n    </tr>\n    <tr>\n      <th>3296</th>\n      <td>MedicalExpert-II</td>\n      <td>0ab9e6787dd93e3ad8505c6dcbafa955b91554b026c014...</td>\n      <td>4Severe</td>\n      <td>MedicalExpert-II/4Severe/SevereG4 (96).png</td>\n    </tr>\n    <tr>\n      <th>3297</th>\n      <td>MedicalExpert-II</td>\n      <td>1b3dba34278b1ba238c7051be6886cab2cc2c1c985d368...</td>\n      <td>4Severe</td>\n      <td>MedicalExpert-II/4Severe/SevereG4 (97).png</td>\n    </tr>\n    <tr>\n      <th>3298</th>\n      <td>MedicalExpert-II</td>\n      <td>3338d1a673dd92b49fc1967f0f3cea6bc645fea48bb84b...</td>\n      <td>4Severe</td>\n      <td>MedicalExpert-II/4Severe/SevereG4 (98).png</td>\n    </tr>\n    <tr>\n      <th>3299</th>\n      <td>MedicalExpert-II</td>\n      <td>8bf89927b1adc0b27fde55d015cd285cf6be47099a31b9...</td>\n      <td>4Severe</td>\n      <td>MedicalExpert-II/4Severe/SevereG4 (99).png</td>\n    </tr>\n  </tbody>\n</table>\n<p>3300 rows × 4 columns</p>\n</div>"
     },
     "execution_count": 10,
     "metadata": {},
     "output_type": "execute_result"
    }
   ],
   "source": [
    "data = pd.DataFrame(raw_data)\n",
    "data\n"
   ]
  },
  {
   "cell_type": "code",
   "execution_count": null,
   "metadata": {},
   "outputs": [],
   "source": [
    "data.to_csv('raw_data.csv', index=False)\n"
   ]
  },
  {
   "cell_type": "markdown",
   "metadata": {
    "collapsed": false
   },
   "source": [
    "# Нормализуем данные\n"
   ]
  },
  {
   "cell_type": "code",
   "execution_count": 11,
   "metadata": {
    "collapsed": false
   },
   "outputs": [],
   "source": [
    "severity_map = {\n",
    "    '0Normal': 0,\n",
    "    '1Doubtful': 1,\n",
    "    '2Mild': 2,\n",
    "    '3Moderate': 3,\n",
    "    '4Severe': 4\n",
    "}\n",
    "data['severity'] = data['severity'].map(severity_map)\n"
   ]
  },
  {
   "cell_type": "code",
   "execution_count": 12,
   "metadata": {
    "collapsed": false
   },
   "outputs": [
    {
     "data": {
      "text/plain": "                 expert                                            file_id  \\\ncount              3300                                               3300   \nunique                2                                               1633   \ntop     MedicalExpert-I  197ee4a082d0ecd02972532453a8a7aaff300c2348352c...   \nfreq               1650                                                  6   \n\n                                   relative_path  \ncount                                       3300  \nunique                                      3300  \ntop     MedicalExpert-I/0Normal/NormalG0 (1).png  \nfreq                                           1  ",
      "text/html": "<div>\n<style scoped>\n    .dataframe tbody tr th:only-of-type {\n        vertical-align: middle;\n    }\n\n    .dataframe tbody tr th {\n        vertical-align: top;\n    }\n\n    .dataframe thead th {\n        text-align: right;\n    }\n</style>\n<table border=\"1\" class=\"dataframe\">\n  <thead>\n    <tr style=\"text-align: right;\">\n      <th></th>\n      <th>expert</th>\n      <th>file_id</th>\n      <th>relative_path</th>\n    </tr>\n  </thead>\n  <tbody>\n    <tr>\n      <th>count</th>\n      <td>3300</td>\n      <td>3300</td>\n      <td>3300</td>\n    </tr>\n    <tr>\n      <th>unique</th>\n      <td>2</td>\n      <td>1633</td>\n      <td>3300</td>\n    </tr>\n    <tr>\n      <th>top</th>\n      <td>MedicalExpert-I</td>\n      <td>197ee4a082d0ecd02972532453a8a7aaff300c2348352c...</td>\n      <td>MedicalExpert-I/0Normal/NormalG0 (1).png</td>\n    </tr>\n    <tr>\n      <th>freq</th>\n      <td>1650</td>\n      <td>6</td>\n      <td>1</td>\n    </tr>\n  </tbody>\n</table>\n</div>"
     },
     "execution_count": 12,
     "metadata": {},
     "output_type": "execute_result"
    }
   ],
   "source": [
    "data.describe(include='object')\n"
   ]
  },
  {
   "cell_type": "markdown",
   "metadata": {},
   "source": [
    "Видно, что часть хешей совпадает, значит какие-то файлы дублируются в выборке и их можно отбросить. Ищем такие файлы"
   ]
  },
  {
   "cell_type": "code",
   "execution_count": 13,
   "metadata": {
    "collapsed": false
   },
   "outputs": [
    {
     "data": {
      "text/plain": "                                                file_id            expert  \\\n310   197ee4a082d0ecd02972532453a8a7aaff300c2348352c...   MedicalExpert-I   \n311   197ee4a082d0ecd02972532453a8a7aaff300c2348352c...  MedicalExpert-II   \n364   1dcec59295c228968cfbe39c1e16028b25be68ea58c78b...   MedicalExpert-I   \n365   1dcec59295c228968cfbe39c1e16028b25be68ea58c78b...  MedicalExpert-II   \n898   451842e164a05a07973360035fceb73cb9b463eb5fe1c1...   MedicalExpert-I   \n899   451842e164a05a07973360035fceb73cb9b463eb5fe1c1...  MedicalExpert-II   \n1120  54cc7904e251af243e3033f895997e37a6976f4e5b78cb...   MedicalExpert-I   \n1121  54cc7904e251af243e3033f895997e37a6976f4e5b78cb...  MedicalExpert-II   \n1238  5c78a76c95d62132765bf5337c8ec0aab4bcf32d6dd97c...   MedicalExpert-I   \n1239  5c78a76c95d62132765bf5337c8ec0aab4bcf32d6dd97c...  MedicalExpert-II   \n1614  7a21c7e7f35d1b9cd50cd2bb50fb3c5893fe51806e3127...   MedicalExpert-I   \n1615  7a21c7e7f35d1b9cd50cd2bb50fb3c5893fe51806e3127...  MedicalExpert-II   \n2090  a2038be623857565ab04f5d050b49fad1cb9560abff33b...   MedicalExpert-I   \n2091  a2038be623857565ab04f5d050b49fad1cb9560abff33b...  MedicalExpert-II   \n2138  a584c0ac57356d4416e8501679c8eaea18afd71d69c03f...   MedicalExpert-I   \n2139  a584c0ac57356d4416e8501679c8eaea18afd71d69c03f...  MedicalExpert-II   \n2278  ae12756e91aa76578235cd53766a5c74991d2266589308...   MedicalExpert-I   \n2279  ae12756e91aa76578235cd53766a5c74991d2266589308...  MedicalExpert-II   \n2308  b1448f0ce641f512a7eb75bf195739bcd41517add88165...   MedicalExpert-I   \n2309  b1448f0ce641f512a7eb75bf195739bcd41517add88165...  MedicalExpert-II   \n2310  b1691371b73e79e3936f7aac9adf389a24c594adc056e4...   MedicalExpert-I   \n2311  b1691371b73e79e3936f7aac9adf389a24c594adc056e4...  MedicalExpert-II   \n2384  b77349ed8bc71862a59379ef157bccb6381b74a077025b...   MedicalExpert-I   \n2385  b77349ed8bc71862a59379ef157bccb6381b74a077025b...  MedicalExpert-II   \n2678  d22bd4c1f75758819b1746090725b5338d3193631bdc6b...   MedicalExpert-I   \n2679  d22bd4c1f75758819b1746090725b5338d3193631bdc6b...  MedicalExpert-II   \n2762  d97f89d4e1826abb55e1fa5868e27ee80bb3a8f0c8a86d...   MedicalExpert-I   \n2763  d97f89d4e1826abb55e1fa5868e27ee80bb3a8f0c8a86d...  MedicalExpert-II   \n3210  f96a0d0a156b931634ded8b4d77e0e0f1a99a2a1a25fa6...   MedicalExpert-I   \n3211  f96a0d0a156b931634ded8b4d77e0e0f1a99a2a1a25fa6...  MedicalExpert-II   \n\n      relative_path  \n310               3  \n311               3  \n364               2  \n365               2  \n898               2  \n899               2  \n1120              2  \n1121              2  \n1238              2  \n1239              2  \n1614              3  \n1615              3  \n2090              2  \n2091              2  \n2138              2  \n2139              2  \n2278              2  \n2279              2  \n2308              2  \n2309              2  \n2310              2  \n2311              2  \n2384              2  \n2385              2  \n2678              2  \n2679              2  \n2762              2  \n2763              2  \n3210              2  \n3211              2  ",
      "text/html": "<div>\n<style scoped>\n    .dataframe tbody tr th:only-of-type {\n        vertical-align: middle;\n    }\n\n    .dataframe tbody tr th {\n        vertical-align: top;\n    }\n\n    .dataframe thead th {\n        text-align: right;\n    }\n</style>\n<table border=\"1\" class=\"dataframe\">\n  <thead>\n    <tr style=\"text-align: right;\">\n      <th></th>\n      <th>file_id</th>\n      <th>expert</th>\n      <th>relative_path</th>\n    </tr>\n  </thead>\n  <tbody>\n    <tr>\n      <th>310</th>\n      <td>197ee4a082d0ecd02972532453a8a7aaff300c2348352c...</td>\n      <td>MedicalExpert-I</td>\n      <td>3</td>\n    </tr>\n    <tr>\n      <th>311</th>\n      <td>197ee4a082d0ecd02972532453a8a7aaff300c2348352c...</td>\n      <td>MedicalExpert-II</td>\n      <td>3</td>\n    </tr>\n    <tr>\n      <th>364</th>\n      <td>1dcec59295c228968cfbe39c1e16028b25be68ea58c78b...</td>\n      <td>MedicalExpert-I</td>\n      <td>2</td>\n    </tr>\n    <tr>\n      <th>365</th>\n      <td>1dcec59295c228968cfbe39c1e16028b25be68ea58c78b...</td>\n      <td>MedicalExpert-II</td>\n      <td>2</td>\n    </tr>\n    <tr>\n      <th>898</th>\n      <td>451842e164a05a07973360035fceb73cb9b463eb5fe1c1...</td>\n      <td>MedicalExpert-I</td>\n      <td>2</td>\n    </tr>\n    <tr>\n      <th>899</th>\n      <td>451842e164a05a07973360035fceb73cb9b463eb5fe1c1...</td>\n      <td>MedicalExpert-II</td>\n      <td>2</td>\n    </tr>\n    <tr>\n      <th>1120</th>\n      <td>54cc7904e251af243e3033f895997e37a6976f4e5b78cb...</td>\n      <td>MedicalExpert-I</td>\n      <td>2</td>\n    </tr>\n    <tr>\n      <th>1121</th>\n      <td>54cc7904e251af243e3033f895997e37a6976f4e5b78cb...</td>\n      <td>MedicalExpert-II</td>\n      <td>2</td>\n    </tr>\n    <tr>\n      <th>1238</th>\n      <td>5c78a76c95d62132765bf5337c8ec0aab4bcf32d6dd97c...</td>\n      <td>MedicalExpert-I</td>\n      <td>2</td>\n    </tr>\n    <tr>\n      <th>1239</th>\n      <td>5c78a76c95d62132765bf5337c8ec0aab4bcf32d6dd97c...</td>\n      <td>MedicalExpert-II</td>\n      <td>2</td>\n    </tr>\n    <tr>\n      <th>1614</th>\n      <td>7a21c7e7f35d1b9cd50cd2bb50fb3c5893fe51806e3127...</td>\n      <td>MedicalExpert-I</td>\n      <td>3</td>\n    </tr>\n    <tr>\n      <th>1615</th>\n      <td>7a21c7e7f35d1b9cd50cd2bb50fb3c5893fe51806e3127...</td>\n      <td>MedicalExpert-II</td>\n      <td>3</td>\n    </tr>\n    <tr>\n      <th>2090</th>\n      <td>a2038be623857565ab04f5d050b49fad1cb9560abff33b...</td>\n      <td>MedicalExpert-I</td>\n      <td>2</td>\n    </tr>\n    <tr>\n      <th>2091</th>\n      <td>a2038be623857565ab04f5d050b49fad1cb9560abff33b...</td>\n      <td>MedicalExpert-II</td>\n      <td>2</td>\n    </tr>\n    <tr>\n      <th>2138</th>\n      <td>a584c0ac57356d4416e8501679c8eaea18afd71d69c03f...</td>\n      <td>MedicalExpert-I</td>\n      <td>2</td>\n    </tr>\n    <tr>\n      <th>2139</th>\n      <td>a584c0ac57356d4416e8501679c8eaea18afd71d69c03f...</td>\n      <td>MedicalExpert-II</td>\n      <td>2</td>\n    </tr>\n    <tr>\n      <th>2278</th>\n      <td>ae12756e91aa76578235cd53766a5c74991d2266589308...</td>\n      <td>MedicalExpert-I</td>\n      <td>2</td>\n    </tr>\n    <tr>\n      <th>2279</th>\n      <td>ae12756e91aa76578235cd53766a5c74991d2266589308...</td>\n      <td>MedicalExpert-II</td>\n      <td>2</td>\n    </tr>\n    <tr>\n      <th>2308</th>\n      <td>b1448f0ce641f512a7eb75bf195739bcd41517add88165...</td>\n      <td>MedicalExpert-I</td>\n      <td>2</td>\n    </tr>\n    <tr>\n      <th>2309</th>\n      <td>b1448f0ce641f512a7eb75bf195739bcd41517add88165...</td>\n      <td>MedicalExpert-II</td>\n      <td>2</td>\n    </tr>\n    <tr>\n      <th>2310</th>\n      <td>b1691371b73e79e3936f7aac9adf389a24c594adc056e4...</td>\n      <td>MedicalExpert-I</td>\n      <td>2</td>\n    </tr>\n    <tr>\n      <th>2311</th>\n      <td>b1691371b73e79e3936f7aac9adf389a24c594adc056e4...</td>\n      <td>MedicalExpert-II</td>\n      <td>2</td>\n    </tr>\n    <tr>\n      <th>2384</th>\n      <td>b77349ed8bc71862a59379ef157bccb6381b74a077025b...</td>\n      <td>MedicalExpert-I</td>\n      <td>2</td>\n    </tr>\n    <tr>\n      <th>2385</th>\n      <td>b77349ed8bc71862a59379ef157bccb6381b74a077025b...</td>\n      <td>MedicalExpert-II</td>\n      <td>2</td>\n    </tr>\n    <tr>\n      <th>2678</th>\n      <td>d22bd4c1f75758819b1746090725b5338d3193631bdc6b...</td>\n      <td>MedicalExpert-I</td>\n      <td>2</td>\n    </tr>\n    <tr>\n      <th>2679</th>\n      <td>d22bd4c1f75758819b1746090725b5338d3193631bdc6b...</td>\n      <td>MedicalExpert-II</td>\n      <td>2</td>\n    </tr>\n    <tr>\n      <th>2762</th>\n      <td>d97f89d4e1826abb55e1fa5868e27ee80bb3a8f0c8a86d...</td>\n      <td>MedicalExpert-I</td>\n      <td>2</td>\n    </tr>\n    <tr>\n      <th>2763</th>\n      <td>d97f89d4e1826abb55e1fa5868e27ee80bb3a8f0c8a86d...</td>\n      <td>MedicalExpert-II</td>\n      <td>2</td>\n    </tr>\n    <tr>\n      <th>3210</th>\n      <td>f96a0d0a156b931634ded8b4d77e0e0f1a99a2a1a25fa6...</td>\n      <td>MedicalExpert-I</td>\n      <td>2</td>\n    </tr>\n    <tr>\n      <th>3211</th>\n      <td>f96a0d0a156b931634ded8b4d77e0e0f1a99a2a1a25fa6...</td>\n      <td>MedicalExpert-II</td>\n      <td>2</td>\n    </tr>\n  </tbody>\n</table>\n</div>"
     },
     "execution_count": 13,
     "metadata": {},
     "output_type": "execute_result"
    }
   ],
   "source": [
    "duplicated_files = data[['file_id', 'relative_path', 'expert']].groupby(['file_id', 'expert'], as_index=False).agg('count')\n",
    "duplicated_files = duplicated_files[duplicated_files['relative_path'] > 1]\n",
    "duplicated_files\n"
   ]
  },
  {
   "cell_type": "markdown",
   "metadata": {},
   "source": [
    "Проверяем файлы"
   ]
  },
  {
   "cell_type": "code",
   "execution_count": null,
   "metadata": {},
   "outputs": [],
   "source": [
    "from PIL import Image\n",
    "\n",
    "paths = data[data['file_id'] == '197ee4a082d0ecd02972532453a8a7aaff300c2348352c866a1dba15cbb2554d:f0dc21fa5616728d830149fd3d0513bd']['relative_path']\n",
    "for key in paths:\n",
    "    buffer = io.BytesIO()\n",
    "    s3_client.download_fileobj(BUCKET_NAME, f'{DATASET_DIR}{key}', buffer)\n",
    "    buffer.seek(0)\n",
    "    image = Image.open(buffer)\n",
    "    print(key)\n",
    "    display(image)\n"
   ]
  },
  {
   "cell_type": "markdown",
   "metadata": {},
   "source": [
    "Видно, что изображения идентичные. Проверяем, есть ли разные оценки для таких изображений от каждого эксперта в отдельности"
   ]
  },
  {
   "cell_type": "code",
   "execution_count": 14,
   "metadata": {},
   "outputs": [
    {
     "data": {
      "text/plain": "              expert                                            file_id  \\\n                                                                          \n0    MedicalExpert-I  197ee4a082d0ecd02972532453a8a7aaff300c2348352c...   \n1    MedicalExpert-I  1dcec59295c228968cfbe39c1e16028b25be68ea58c78b...   \n2    MedicalExpert-I  451842e164a05a07973360035fceb73cb9b463eb5fe1c1...   \n3    MedicalExpert-I  54cc7904e251af243e3033f895997e37a6976f4e5b78cb...   \n4    MedicalExpert-I  5c78a76c95d62132765bf5337c8ec0aab4bcf32d6dd97c...   \n5    MedicalExpert-I  7a21c7e7f35d1b9cd50cd2bb50fb3c5893fe51806e3127...   \n6    MedicalExpert-I  a2038be623857565ab04f5d050b49fad1cb9560abff33b...   \n7    MedicalExpert-I  a584c0ac57356d4416e8501679c8eaea18afd71d69c03f...   \n8    MedicalExpert-I  ae12756e91aa76578235cd53766a5c74991d2266589308...   \n9    MedicalExpert-I  b1448f0ce641f512a7eb75bf195739bcd41517add88165...   \n10   MedicalExpert-I  b1691371b73e79e3936f7aac9adf389a24c594adc056e4...   \n11   MedicalExpert-I  b77349ed8bc71862a59379ef157bccb6381b74a077025b...   \n12   MedicalExpert-I  d22bd4c1f75758819b1746090725b5338d3193631bdc6b...   \n13   MedicalExpert-I  d97f89d4e1826abb55e1fa5868e27ee80bb3a8f0c8a86d...   \n14   MedicalExpert-I  f96a0d0a156b931634ded8b4d77e0e0f1a99a2a1a25fa6...   \n15  MedicalExpert-II  197ee4a082d0ecd02972532453a8a7aaff300c2348352c...   \n16  MedicalExpert-II  1dcec59295c228968cfbe39c1e16028b25be68ea58c78b...   \n17  MedicalExpert-II  451842e164a05a07973360035fceb73cb9b463eb5fe1c1...   \n18  MedicalExpert-II  54cc7904e251af243e3033f895997e37a6976f4e5b78cb...   \n19  MedicalExpert-II  5c78a76c95d62132765bf5337c8ec0aab4bcf32d6dd97c...   \n20  MedicalExpert-II  7a21c7e7f35d1b9cd50cd2bb50fb3c5893fe51806e3127...   \n21  MedicalExpert-II  a2038be623857565ab04f5d050b49fad1cb9560abff33b...   \n22  MedicalExpert-II  a584c0ac57356d4416e8501679c8eaea18afd71d69c03f...   \n23  MedicalExpert-II  ae12756e91aa76578235cd53766a5c74991d2266589308...   \n24  MedicalExpert-II  b1448f0ce641f512a7eb75bf195739bcd41517add88165...   \n25  MedicalExpert-II  b1691371b73e79e3936f7aac9adf389a24c594adc056e4...   \n26  MedicalExpert-II  b77349ed8bc71862a59379ef157bccb6381b74a077025b...   \n27  MedicalExpert-II  d22bd4c1f75758819b1746090725b5338d3193631bdc6b...   \n28  MedicalExpert-II  d97f89d4e1826abb55e1fa5868e27ee80bb3a8f0c8a86d...   \n29  MedicalExpert-II  f96a0d0a156b931634ded8b4d77e0e0f1a99a2a1a25fa6...   \n\n   severity        \n    nunique first  \n0         1     3  \n1         1     1  \n2         1     3  \n3         1     3  \n4         1     2  \n5         1     3  \n6         1     1  \n7         1     0  \n8         1     2  \n9         1     2  \n10        1     2  \n11        1     2  \n12        1     3  \n13        1     1  \n14        1     3  \n15        1     3  \n16        1     1  \n17        1     3  \n18        1     3  \n19        1     2  \n20        1     3  \n21        1     1  \n22        1     0  \n23        1     2  \n24        1     2  \n25        1     2  \n26        1     2  \n27        1     3  \n28        1     1  \n29        1     3  ",
      "text/html": "<div>\n<style scoped>\n    .dataframe tbody tr th:only-of-type {\n        vertical-align: middle;\n    }\n\n    .dataframe tbody tr th {\n        vertical-align: top;\n    }\n\n    .dataframe thead tr th {\n        text-align: left;\n    }\n</style>\n<table border=\"1\" class=\"dataframe\">\n  <thead>\n    <tr>\n      <th></th>\n      <th>expert</th>\n      <th>file_id</th>\n      <th colspan=\"2\" halign=\"left\">severity</th>\n    </tr>\n    <tr>\n      <th></th>\n      <th></th>\n      <th></th>\n      <th>nunique</th>\n      <th>first</th>\n    </tr>\n  </thead>\n  <tbody>\n    <tr>\n      <th>0</th>\n      <td>MedicalExpert-I</td>\n      <td>197ee4a082d0ecd02972532453a8a7aaff300c2348352c...</td>\n      <td>1</td>\n      <td>3</td>\n    </tr>\n    <tr>\n      <th>1</th>\n      <td>MedicalExpert-I</td>\n      <td>1dcec59295c228968cfbe39c1e16028b25be68ea58c78b...</td>\n      <td>1</td>\n      <td>1</td>\n    </tr>\n    <tr>\n      <th>2</th>\n      <td>MedicalExpert-I</td>\n      <td>451842e164a05a07973360035fceb73cb9b463eb5fe1c1...</td>\n      <td>1</td>\n      <td>3</td>\n    </tr>\n    <tr>\n      <th>3</th>\n      <td>MedicalExpert-I</td>\n      <td>54cc7904e251af243e3033f895997e37a6976f4e5b78cb...</td>\n      <td>1</td>\n      <td>3</td>\n    </tr>\n    <tr>\n      <th>4</th>\n      <td>MedicalExpert-I</td>\n      <td>5c78a76c95d62132765bf5337c8ec0aab4bcf32d6dd97c...</td>\n      <td>1</td>\n      <td>2</td>\n    </tr>\n    <tr>\n      <th>5</th>\n      <td>MedicalExpert-I</td>\n      <td>7a21c7e7f35d1b9cd50cd2bb50fb3c5893fe51806e3127...</td>\n      <td>1</td>\n      <td>3</td>\n    </tr>\n    <tr>\n      <th>6</th>\n      <td>MedicalExpert-I</td>\n      <td>a2038be623857565ab04f5d050b49fad1cb9560abff33b...</td>\n      <td>1</td>\n      <td>1</td>\n    </tr>\n    <tr>\n      <th>7</th>\n      <td>MedicalExpert-I</td>\n      <td>a584c0ac57356d4416e8501679c8eaea18afd71d69c03f...</td>\n      <td>1</td>\n      <td>0</td>\n    </tr>\n    <tr>\n      <th>8</th>\n      <td>MedicalExpert-I</td>\n      <td>ae12756e91aa76578235cd53766a5c74991d2266589308...</td>\n      <td>1</td>\n      <td>2</td>\n    </tr>\n    <tr>\n      <th>9</th>\n      <td>MedicalExpert-I</td>\n      <td>b1448f0ce641f512a7eb75bf195739bcd41517add88165...</td>\n      <td>1</td>\n      <td>2</td>\n    </tr>\n    <tr>\n      <th>10</th>\n      <td>MedicalExpert-I</td>\n      <td>b1691371b73e79e3936f7aac9adf389a24c594adc056e4...</td>\n      <td>1</td>\n      <td>2</td>\n    </tr>\n    <tr>\n      <th>11</th>\n      <td>MedicalExpert-I</td>\n      <td>b77349ed8bc71862a59379ef157bccb6381b74a077025b...</td>\n      <td>1</td>\n      <td>2</td>\n    </tr>\n    <tr>\n      <th>12</th>\n      <td>MedicalExpert-I</td>\n      <td>d22bd4c1f75758819b1746090725b5338d3193631bdc6b...</td>\n      <td>1</td>\n      <td>3</td>\n    </tr>\n    <tr>\n      <th>13</th>\n      <td>MedicalExpert-I</td>\n      <td>d97f89d4e1826abb55e1fa5868e27ee80bb3a8f0c8a86d...</td>\n      <td>1</td>\n      <td>1</td>\n    </tr>\n    <tr>\n      <th>14</th>\n      <td>MedicalExpert-I</td>\n      <td>f96a0d0a156b931634ded8b4d77e0e0f1a99a2a1a25fa6...</td>\n      <td>1</td>\n      <td>3</td>\n    </tr>\n    <tr>\n      <th>15</th>\n      <td>MedicalExpert-II</td>\n      <td>197ee4a082d0ecd02972532453a8a7aaff300c2348352c...</td>\n      <td>1</td>\n      <td>3</td>\n    </tr>\n    <tr>\n      <th>16</th>\n      <td>MedicalExpert-II</td>\n      <td>1dcec59295c228968cfbe39c1e16028b25be68ea58c78b...</td>\n      <td>1</td>\n      <td>1</td>\n    </tr>\n    <tr>\n      <th>17</th>\n      <td>MedicalExpert-II</td>\n      <td>451842e164a05a07973360035fceb73cb9b463eb5fe1c1...</td>\n      <td>1</td>\n      <td>3</td>\n    </tr>\n    <tr>\n      <th>18</th>\n      <td>MedicalExpert-II</td>\n      <td>54cc7904e251af243e3033f895997e37a6976f4e5b78cb...</td>\n      <td>1</td>\n      <td>3</td>\n    </tr>\n    <tr>\n      <th>19</th>\n      <td>MedicalExpert-II</td>\n      <td>5c78a76c95d62132765bf5337c8ec0aab4bcf32d6dd97c...</td>\n      <td>1</td>\n      <td>2</td>\n    </tr>\n    <tr>\n      <th>20</th>\n      <td>MedicalExpert-II</td>\n      <td>7a21c7e7f35d1b9cd50cd2bb50fb3c5893fe51806e3127...</td>\n      <td>1</td>\n      <td>3</td>\n    </tr>\n    <tr>\n      <th>21</th>\n      <td>MedicalExpert-II</td>\n      <td>a2038be623857565ab04f5d050b49fad1cb9560abff33b...</td>\n      <td>1</td>\n      <td>1</td>\n    </tr>\n    <tr>\n      <th>22</th>\n      <td>MedicalExpert-II</td>\n      <td>a584c0ac57356d4416e8501679c8eaea18afd71d69c03f...</td>\n      <td>1</td>\n      <td>0</td>\n    </tr>\n    <tr>\n      <th>23</th>\n      <td>MedicalExpert-II</td>\n      <td>ae12756e91aa76578235cd53766a5c74991d2266589308...</td>\n      <td>1</td>\n      <td>2</td>\n    </tr>\n    <tr>\n      <th>24</th>\n      <td>MedicalExpert-II</td>\n      <td>b1448f0ce641f512a7eb75bf195739bcd41517add88165...</td>\n      <td>1</td>\n      <td>2</td>\n    </tr>\n    <tr>\n      <th>25</th>\n      <td>MedicalExpert-II</td>\n      <td>b1691371b73e79e3936f7aac9adf389a24c594adc056e4...</td>\n      <td>1</td>\n      <td>2</td>\n    </tr>\n    <tr>\n      <th>26</th>\n      <td>MedicalExpert-II</td>\n      <td>b77349ed8bc71862a59379ef157bccb6381b74a077025b...</td>\n      <td>1</td>\n      <td>2</td>\n    </tr>\n    <tr>\n      <th>27</th>\n      <td>MedicalExpert-II</td>\n      <td>d22bd4c1f75758819b1746090725b5338d3193631bdc6b...</td>\n      <td>1</td>\n      <td>3</td>\n    </tr>\n    <tr>\n      <th>28</th>\n      <td>MedicalExpert-II</td>\n      <td>d97f89d4e1826abb55e1fa5868e27ee80bb3a8f0c8a86d...</td>\n      <td>1</td>\n      <td>1</td>\n    </tr>\n    <tr>\n      <th>29</th>\n      <td>MedicalExpert-II</td>\n      <td>f96a0d0a156b931634ded8b4d77e0e0f1a99a2a1a25fa6...</td>\n      <td>1</td>\n      <td>3</td>\n    </tr>\n  </tbody>\n</table>\n</div>"
     },
     "execution_count": 14,
     "metadata": {},
     "output_type": "execute_result"
    }
   ],
   "source": [
    "duplicated_data = data[data['file_id'].isin(duplicated_files['file_id'])]\n",
    "duplicated_data[['expert', 'severity', 'file_id']].groupby(['expert', 'file_id'], as_index=False).agg(['nunique', 'first'])\n"
   ]
  },
  {
   "cell_type": "markdown",
   "metadata": {},
   "source": [
    "Оценки совпадают, значит можно откинуть дубликаты"
   ]
  },
  {
   "cell_type": "code",
   "execution_count": 15,
   "metadata": {},
   "outputs": [
    {
     "data": {
      "text/plain": "216          MedicalExpert-I/0Normal/NormalG0 (294).png\n832      MedicalExpert-I/1Doubtful/DoubtfulG1 (386).png\n907      MedicalExpert-I/1Doubtful/DoubtfulG1 (453).png\n965       MedicalExpert-I/1Doubtful/DoubtfulG1 (76).png\n1004             MedicalExpert-I/2Mild/MildG2 (110).png\n1116             MedicalExpert-I/2Mild/MildG2 (211).png\n1118             MedicalExpert-I/2Mild/MildG2 (213).png\n1195              MedicalExpert-I/2Mild/MildG2 (74).png\n1200              MedicalExpert-I/2Mild/MildG2 (79).png\n1342     MedicalExpert-I/3Moderate/ModerateG3 (206).png\n1343     MedicalExpert-I/3Moderate/ModerateG3 (207).png\n1344     MedicalExpert-I/3Moderate/ModerateG3 (208).png\n1347     MedicalExpert-I/3Moderate/ModerateG3 (210).png\n1354     MedicalExpert-I/3Moderate/ModerateG3 (217).png\n1385      MedicalExpert-I/3Moderate/ModerateG3 (46).png\n1387      MedicalExpert-I/3Moderate/ModerateG3 (48).png\n1432      MedicalExpert-I/3Moderate/ModerateG3 (89).png\n1866        MedicalExpert-II/0Normal/NormalG0 (294).png\n2478    MedicalExpert-II/1Doubtful/DoubtfulG1 (392).png\n2552    MedicalExpert-II/1Doubtful/DoubtfulG1 (459).png\n2622     MedicalExpert-II/1Doubtful/DoubtfulG1 (82).png\n2654            MedicalExpert-II/2Mild/MildG2 (110).png\n2766            MedicalExpert-II/2Mild/MildG2 (211).png\n2768            MedicalExpert-II/2Mild/MildG2 (213).png\n2845             MedicalExpert-II/2Mild/MildG2 (74).png\n2850             MedicalExpert-II/2Mild/MildG2 (79).png\n2992    MedicalExpert-II/3Moderate/ModerateG3 (206).png\n2993    MedicalExpert-II/3Moderate/ModerateG3 (207).png\n2994    MedicalExpert-II/3Moderate/ModerateG3 (208).png\n2997    MedicalExpert-II/3Moderate/ModerateG3 (210).png\n3004    MedicalExpert-II/3Moderate/ModerateG3 (217).png\n3035     MedicalExpert-II/3Moderate/ModerateG3 (46).png\n3037     MedicalExpert-II/3Moderate/ModerateG3 (48).png\n3082     MedicalExpert-II/3Moderate/ModerateG3 (89).png\nName: relative_path, dtype: object"
     },
     "execution_count": 15,
     "metadata": {},
     "output_type": "execute_result"
    }
   ],
   "source": [
    "deleted_paths = data[data.duplicated(['expert', 'file_id'], keep='first')]['relative_path']\n",
    "deleted_paths\n"
   ]
  },
  {
   "cell_type": "markdown",
   "metadata": {},
   "source": [
    "Сохраняем в файл для дальнейшего использования при фильтрации"
   ]
  },
  {
   "cell_type": "code",
   "execution_count": null,
   "metadata": {},
   "outputs": [],
   "source": [
    "deleted_paths.to_csv('deleted_paths.csv', index=False)\n"
   ]
  },
  {
   "cell_type": "code",
   "execution_count": 16,
   "metadata": {},
   "outputs": [
    {
     "data": {
      "text/plain": "                expert                                            file_id  \\\n0      MedicalExpert-I  c7284c66fa8ec0ab4594e5dcd44866f408238f685e999e...   \n1      MedicalExpert-I  4a547b94fe02a7565beb21aa9195f4deffe831086da240...   \n2      MedicalExpert-I  ca8a296d1e15e0ed84c1ab82440426f28cd0582c19964f...   \n3      MedicalExpert-I  6f8bb6bbf0f4def4fdbe1a486064e47eefed0fa832246c...   \n4      MedicalExpert-I  d3c8f051ee6c5f59dff4657b7c007860be652e313d85ab...   \n...                ...                                                ...   \n3295  MedicalExpert-II  a762fc9fda75a15538789eb78b53a7ca12631e3c59993d...   \n3296  MedicalExpert-II  0ab9e6787dd93e3ad8505c6dcbafa955b91554b026c014...   \n3297  MedicalExpert-II  1b3dba34278b1ba238c7051be6886cab2cc2c1c985d368...   \n3298  MedicalExpert-II  3338d1a673dd92b49fc1967f0f3cea6bc645fea48bb84b...   \n3299  MedicalExpert-II  8bf89927b1adc0b27fde55d015cd285cf6be47099a31b9...   \n\n      severity                               relative_path  \n0            0    MedicalExpert-I/0Normal/NormalG0 (1).png  \n1            0   MedicalExpert-I/0Normal/NormalG0 (10).png  \n2            0  MedicalExpert-I/0Normal/NormalG0 (100).png  \n3            0  MedicalExpert-I/0Normal/NormalG0 (101).png  \n4            0  MedicalExpert-I/0Normal/NormalG0 (102).png  \n...        ...                                         ...  \n3295         4  MedicalExpert-II/4Severe/SevereG4 (95).png  \n3296         4  MedicalExpert-II/4Severe/SevereG4 (96).png  \n3297         4  MedicalExpert-II/4Severe/SevereG4 (97).png  \n3298         4  MedicalExpert-II/4Severe/SevereG4 (98).png  \n3299         4  MedicalExpert-II/4Severe/SevereG4 (99).png  \n\n[3266 rows x 4 columns]",
      "text/html": "<div>\n<style scoped>\n    .dataframe tbody tr th:only-of-type {\n        vertical-align: middle;\n    }\n\n    .dataframe tbody tr th {\n        vertical-align: top;\n    }\n\n    .dataframe thead th {\n        text-align: right;\n    }\n</style>\n<table border=\"1\" class=\"dataframe\">\n  <thead>\n    <tr style=\"text-align: right;\">\n      <th></th>\n      <th>expert</th>\n      <th>file_id</th>\n      <th>severity</th>\n      <th>relative_path</th>\n    </tr>\n  </thead>\n  <tbody>\n    <tr>\n      <th>0</th>\n      <td>MedicalExpert-I</td>\n      <td>c7284c66fa8ec0ab4594e5dcd44866f408238f685e999e...</td>\n      <td>0</td>\n      <td>MedicalExpert-I/0Normal/NormalG0 (1).png</td>\n    </tr>\n    <tr>\n      <th>1</th>\n      <td>MedicalExpert-I</td>\n      <td>4a547b94fe02a7565beb21aa9195f4deffe831086da240...</td>\n      <td>0</td>\n      <td>MedicalExpert-I/0Normal/NormalG0 (10).png</td>\n    </tr>\n    <tr>\n      <th>2</th>\n      <td>MedicalExpert-I</td>\n      <td>ca8a296d1e15e0ed84c1ab82440426f28cd0582c19964f...</td>\n      <td>0</td>\n      <td>MedicalExpert-I/0Normal/NormalG0 (100).png</td>\n    </tr>\n    <tr>\n      <th>3</th>\n      <td>MedicalExpert-I</td>\n      <td>6f8bb6bbf0f4def4fdbe1a486064e47eefed0fa832246c...</td>\n      <td>0</td>\n      <td>MedicalExpert-I/0Normal/NormalG0 (101).png</td>\n    </tr>\n    <tr>\n      <th>4</th>\n      <td>MedicalExpert-I</td>\n      <td>d3c8f051ee6c5f59dff4657b7c007860be652e313d85ab...</td>\n      <td>0</td>\n      <td>MedicalExpert-I/0Normal/NormalG0 (102).png</td>\n    </tr>\n    <tr>\n      <th>...</th>\n      <td>...</td>\n      <td>...</td>\n      <td>...</td>\n      <td>...</td>\n    </tr>\n    <tr>\n      <th>3295</th>\n      <td>MedicalExpert-II</td>\n      <td>a762fc9fda75a15538789eb78b53a7ca12631e3c59993d...</td>\n      <td>4</td>\n      <td>MedicalExpert-II/4Severe/SevereG4 (95).png</td>\n    </tr>\n    <tr>\n      <th>3296</th>\n      <td>MedicalExpert-II</td>\n      <td>0ab9e6787dd93e3ad8505c6dcbafa955b91554b026c014...</td>\n      <td>4</td>\n      <td>MedicalExpert-II/4Severe/SevereG4 (96).png</td>\n    </tr>\n    <tr>\n      <th>3297</th>\n      <td>MedicalExpert-II</td>\n      <td>1b3dba34278b1ba238c7051be6886cab2cc2c1c985d368...</td>\n      <td>4</td>\n      <td>MedicalExpert-II/4Severe/SevereG4 (97).png</td>\n    </tr>\n    <tr>\n      <th>3298</th>\n      <td>MedicalExpert-II</td>\n      <td>3338d1a673dd92b49fc1967f0f3cea6bc645fea48bb84b...</td>\n      <td>4</td>\n      <td>MedicalExpert-II/4Severe/SevereG4 (98).png</td>\n    </tr>\n    <tr>\n      <th>3299</th>\n      <td>MedicalExpert-II</td>\n      <td>8bf89927b1adc0b27fde55d015cd285cf6be47099a31b9...</td>\n      <td>4</td>\n      <td>MedicalExpert-II/4Severe/SevereG4 (99).png</td>\n    </tr>\n  </tbody>\n</table>\n<p>3266 rows × 4 columns</p>\n</div>"
     },
     "execution_count": 16,
     "metadata": {},
     "output_type": "execute_result"
    }
   ],
   "source": [
    "unique_data = data.drop_duplicates(['expert', 'file_id'], keep='first')\n",
    "unique_data\n"
   ]
  },
  {
   "cell_type": "markdown",
   "metadata": {},
   "source": [
    "## Анализ нормализованных данных\n",
    "\n",
    "Для начала посмотрим как сильно расходятся оценки у экспертов по файлам"
   ]
  },
  {
   "cell_type": "code",
   "execution_count": 17,
   "metadata": {},
   "outputs": [
    {
     "data": {
      "text/plain": "expert                                            file_id  MedicalExpert-I  \\\n0       000555ee2250db28d7ccb076cd8ed02dc46ad149255231...                0   \n1       001a4766d9a9cc32c1d7bc65b6a6d6fa6f18a5540f576e...                3   \n2       00439f2700963bfc89ab72a4fe7711299228d8db3fd4cb...                2   \n3       005c7b80497f04a63b685eafe6797d672754684a9317ac...                2   \n4       00668822b6f82a52fd186a0d8583f3e276bab809b32b71...                1   \n...                                                   ...              ...   \n1628    fe910f9f5eea10fe03f6b8dbc10c4a318b55053aaa580b...                3   \n1629    fecd647553be61596154b3766dbe39a5d3b2b9fb2edede...                3   \n1630    ff49383c140e3cd433c0ed3d52c923378a7958482dd4e2...                1   \n1631    ff4bbd6aa27f3cf0e5d4ad3e2e83c025c16a8b372a82a0...                0   \n1632    ffc764e0d9ce72d7e9032a98b5cbc5339d63ebf03e3dcd...                2   \n\nexpert  MedicalExpert-II  \n0                      0  \n1                      3  \n2                      2  \n3                      2  \n4                      1  \n...                  ...  \n1628                   3  \n1629                   3  \n1630                   1  \n1631                   0  \n1632                   2  \n\n[1633 rows x 3 columns]",
      "text/html": "<div>\n<style scoped>\n    .dataframe tbody tr th:only-of-type {\n        vertical-align: middle;\n    }\n\n    .dataframe tbody tr th {\n        vertical-align: top;\n    }\n\n    .dataframe thead th {\n        text-align: right;\n    }\n</style>\n<table border=\"1\" class=\"dataframe\">\n  <thead>\n    <tr style=\"text-align: right;\">\n      <th>expert</th>\n      <th>file_id</th>\n      <th>MedicalExpert-I</th>\n      <th>MedicalExpert-II</th>\n    </tr>\n  </thead>\n  <tbody>\n    <tr>\n      <th>0</th>\n      <td>000555ee2250db28d7ccb076cd8ed02dc46ad149255231...</td>\n      <td>0</td>\n      <td>0</td>\n    </tr>\n    <tr>\n      <th>1</th>\n      <td>001a4766d9a9cc32c1d7bc65b6a6d6fa6f18a5540f576e...</td>\n      <td>3</td>\n      <td>3</td>\n    </tr>\n    <tr>\n      <th>2</th>\n      <td>00439f2700963bfc89ab72a4fe7711299228d8db3fd4cb...</td>\n      <td>2</td>\n      <td>2</td>\n    </tr>\n    <tr>\n      <th>3</th>\n      <td>005c7b80497f04a63b685eafe6797d672754684a9317ac...</td>\n      <td>2</td>\n      <td>2</td>\n    </tr>\n    <tr>\n      <th>4</th>\n      <td>00668822b6f82a52fd186a0d8583f3e276bab809b32b71...</td>\n      <td>1</td>\n      <td>1</td>\n    </tr>\n    <tr>\n      <th>...</th>\n      <td>...</td>\n      <td>...</td>\n      <td>...</td>\n    </tr>\n    <tr>\n      <th>1628</th>\n      <td>fe910f9f5eea10fe03f6b8dbc10c4a318b55053aaa580b...</td>\n      <td>3</td>\n      <td>3</td>\n    </tr>\n    <tr>\n      <th>1629</th>\n      <td>fecd647553be61596154b3766dbe39a5d3b2b9fb2edede...</td>\n      <td>3</td>\n      <td>3</td>\n    </tr>\n    <tr>\n      <th>1630</th>\n      <td>ff49383c140e3cd433c0ed3d52c923378a7958482dd4e2...</td>\n      <td>1</td>\n      <td>1</td>\n    </tr>\n    <tr>\n      <th>1631</th>\n      <td>ff4bbd6aa27f3cf0e5d4ad3e2e83c025c16a8b372a82a0...</td>\n      <td>0</td>\n      <td>0</td>\n    </tr>\n    <tr>\n      <th>1632</th>\n      <td>ffc764e0d9ce72d7e9032a98b5cbc5339d63ebf03e3dcd...</td>\n      <td>2</td>\n      <td>2</td>\n    </tr>\n  </tbody>\n</table>\n<p>1633 rows × 3 columns</p>\n</div>"
     },
     "execution_count": 17,
     "metadata": {},
     "output_type": "execute_result"
    }
   ],
   "source": [
    "cross_check = unique_data.pivot(\n",
    "    index='file_id', columns='expert', values='severity'\n",
    "    ).reset_index()\n",
    "cross_check\n"
   ]
  },
  {
   "cell_type": "code",
   "execution_count": 18,
   "metadata": {
    "collapsed": false
   },
   "outputs": [
    {
     "data": {
      "text/plain": "expert                            file_id\nMedicalExpert-I MedicalExpert-II         \n0               0                     502\n                1                      11\n1               1                     474\n2               2                     227\n3               3                     213\n4               4                     206",
      "text/html": "<div>\n<style scoped>\n    .dataframe tbody tr th:only-of-type {\n        vertical-align: middle;\n    }\n\n    .dataframe tbody tr th {\n        vertical-align: top;\n    }\n\n    .dataframe thead th {\n        text-align: right;\n    }\n</style>\n<table border=\"1\" class=\"dataframe\">\n  <thead>\n    <tr style=\"text-align: right;\">\n      <th></th>\n      <th>expert</th>\n      <th>file_id</th>\n    </tr>\n    <tr>\n      <th>MedicalExpert-I</th>\n      <th>MedicalExpert-II</th>\n      <th></th>\n    </tr>\n  </thead>\n  <tbody>\n    <tr>\n      <th rowspan=\"2\" valign=\"top\">0</th>\n      <th>0</th>\n      <td>502</td>\n    </tr>\n    <tr>\n      <th>1</th>\n      <td>11</td>\n    </tr>\n    <tr>\n      <th>1</th>\n      <th>1</th>\n      <td>474</td>\n    </tr>\n    <tr>\n      <th>2</th>\n      <th>2</th>\n      <td>227</td>\n    </tr>\n    <tr>\n      <th>3</th>\n      <th>3</th>\n      <td>213</td>\n    </tr>\n    <tr>\n      <th>4</th>\n      <th>4</th>\n      <td>206</td>\n    </tr>\n  </tbody>\n</table>\n</div>"
     },
     "execution_count": 18,
     "metadata": {},
     "output_type": "execute_result"
    }
   ],
   "source": [
    "cross_check.groupby(\n",
    "        ['MedicalExpert-I', 'MedicalExpert-II']\n",
    "        ).agg('count')\n"
   ]
  },
  {
   "cell_type": "markdown",
   "metadata": {},
   "source": [
    "В основном оценки совпадают, но обнаружены 11 файлов, которые были оценены по разному"
   ]
  },
  {
   "cell_type": "code",
   "execution_count": 19,
   "metadata": {},
   "outputs": [
    {
     "data": {
      "text/plain": "expert                                            file_id  MedicalExpert-I  \\\n9       0184a61fb664048be62beaebd18350091b1da331469dc3...                0   \n250     283fb711f3d2f6af28b92ef4ab54c2ab98b7537fc7b278...                0   \n334     32dc600ef010e8251457ab912c242eb9f288b208059606...                0   \n361     37e674b83d1828aa25f4a370c499b691715bcb100485f0...                0   \n620     5cd936fc2c88c431ce72ab9f3e5cf2907e5827136318ba...                0   \n649     6144aa47b5c8f9d99ae704e0562a2d361ab9da5c13768e...                0   \n716     6b96ee74963e6cb9f3c6823cd5f563d31a032a63b843bb...                0   \n1183    b56d832cd973346c6504f2fb56ba673ac1c1bb49a6d064...                0   \n1195    b7ed43175bbd8d7a842ed60ce405c0119187c1faff8f7a...                0   \n1420    df1fb9f2f43783f68d2ae8de7052b2a1a9017fa9003442...                0   \n1533    ef82a608b7703091bf46fb098139d38d11190420c4700f...                0   \n\nexpert  MedicalExpert-II  \n9                      1  \n250                    1  \n334                    1  \n361                    1  \n620                    1  \n649                    1  \n716                    1  \n1183                   1  \n1195                   1  \n1420                   1  \n1533                   1  ",
      "text/html": "<div>\n<style scoped>\n    .dataframe tbody tr th:only-of-type {\n        vertical-align: middle;\n    }\n\n    .dataframe tbody tr th {\n        vertical-align: top;\n    }\n\n    .dataframe thead th {\n        text-align: right;\n    }\n</style>\n<table border=\"1\" class=\"dataframe\">\n  <thead>\n    <tr style=\"text-align: right;\">\n      <th>expert</th>\n      <th>file_id</th>\n      <th>MedicalExpert-I</th>\n      <th>MedicalExpert-II</th>\n    </tr>\n  </thead>\n  <tbody>\n    <tr>\n      <th>9</th>\n      <td>0184a61fb664048be62beaebd18350091b1da331469dc3...</td>\n      <td>0</td>\n      <td>1</td>\n    </tr>\n    <tr>\n      <th>250</th>\n      <td>283fb711f3d2f6af28b92ef4ab54c2ab98b7537fc7b278...</td>\n      <td>0</td>\n      <td>1</td>\n    </tr>\n    <tr>\n      <th>334</th>\n      <td>32dc600ef010e8251457ab912c242eb9f288b208059606...</td>\n      <td>0</td>\n      <td>1</td>\n    </tr>\n    <tr>\n      <th>361</th>\n      <td>37e674b83d1828aa25f4a370c499b691715bcb100485f0...</td>\n      <td>0</td>\n      <td>1</td>\n    </tr>\n    <tr>\n      <th>620</th>\n      <td>5cd936fc2c88c431ce72ab9f3e5cf2907e5827136318ba...</td>\n      <td>0</td>\n      <td>1</td>\n    </tr>\n    <tr>\n      <th>649</th>\n      <td>6144aa47b5c8f9d99ae704e0562a2d361ab9da5c13768e...</td>\n      <td>0</td>\n      <td>1</td>\n    </tr>\n    <tr>\n      <th>716</th>\n      <td>6b96ee74963e6cb9f3c6823cd5f563d31a032a63b843bb...</td>\n      <td>0</td>\n      <td>1</td>\n    </tr>\n    <tr>\n      <th>1183</th>\n      <td>b56d832cd973346c6504f2fb56ba673ac1c1bb49a6d064...</td>\n      <td>0</td>\n      <td>1</td>\n    </tr>\n    <tr>\n      <th>1195</th>\n      <td>b7ed43175bbd8d7a842ed60ce405c0119187c1faff8f7a...</td>\n      <td>0</td>\n      <td>1</td>\n    </tr>\n    <tr>\n      <th>1420</th>\n      <td>df1fb9f2f43783f68d2ae8de7052b2a1a9017fa9003442...</td>\n      <td>0</td>\n      <td>1</td>\n    </tr>\n    <tr>\n      <th>1533</th>\n      <td>ef82a608b7703091bf46fb098139d38d11190420c4700f...</td>\n      <td>0</td>\n      <td>1</td>\n    </tr>\n  </tbody>\n</table>\n</div>"
     },
     "execution_count": 19,
     "metadata": {},
     "output_type": "execute_result"
    }
   ],
   "source": [
    "different_level = cross_check[(cross_check['MedicalExpert-II']!=cross_check['MedicalExpert-I'])]\n",
    "different_level\n"
   ]
  },
  {
   "cell_type": "markdown",
   "metadata": {},
   "source": [
    "Убедимся, что изображения идентичные"
   ]
  },
  {
   "cell_type": "code",
   "execution_count": null,
   "metadata": {},
   "outputs": [],
   "source": [
    "different_severity_paths = unique_data[unique_data['file_id']==different_level['file_id'].iloc[0]]['relative_path']\n",
    "for key in different_severity_paths:\n",
    "    buffer = io.BytesIO()\n",
    "    s3_client.download_fileobj(BUCKET_NAME, f'{DATASET_DIR}{key}', buffer)\n",
    "    buffer.seek(0)\n",
    "    image = Image.open(buffer)\n",
    "    print(key)\n",
    "    display(image)\n"
   ]
  },
  {
   "cell_type": "markdown",
   "metadata": {},
   "source": [
    "Сохраним пути таких файлов"
   ]
  },
  {
   "cell_type": "code",
   "execution_count": null,
   "metadata": {},
   "outputs": [],
   "source": [
    "data[data['file_id'].isin(different_level['file_id'])][['file_id', 'severity', 'relative_path']].to_csv('different_severity.csv', index=False)\n"
   ]
  },
  {
   "cell_type": "code",
   "execution_count": 22,
   "outputs": [],
   "source": [
    "normalized_data = data[~data['file_id'].isin(different_level['file_id'])]\n",
    "normalized_data.to_csv('normalized_data.csv', index=False)\n"
   ],
   "metadata": {
    "collapsed": false
   }
  }
 ],
 "metadata": {
  "kernelspec": {
   "display_name": "Python 3 (ipykernel)",
   "language": "python",
   "name": "python3"
  },
  "language_info": {
   "codemirror_mode": {
    "name": "ipython",
    "version": 3
   },
   "file_extension": ".py",
   "mimetype": "text/x-python",
   "name": "python",
   "nbconvert_exporter": "python",
   "pygments_lexer": "ipython3",
   "version": "3.10.4"
  }
 },
 "nbformat": 4,
 "nbformat_minor": 0
}

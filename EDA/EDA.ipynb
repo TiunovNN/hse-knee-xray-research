{
 "cells": [
  {
   "cell_type": "markdown",
   "source": [
    "# Разведочный анализ данных\n",
    "\n",
    "Набор данных состоит из 1655 цифровых рентгеновских изображений коленного сустава. Исходные изображения представляют собой 8-битные изображения в оттенках серого. Каждое рентгенологическое рентгеновское изображение коленного сустава вручную классифицировано в соответствии со специальными медицинскими оценками двумя экспертами на 5 классов.\n",
    "\n",
    "Эксперт I:\n",
    "\n",
    "1. Normal (515 шт.)\n",
    "1. Doubtful (478 шт.)\n",
    "2. Mild (233 шт.)\n",
    "1. Moderate (222 шт.)\n",
    "1. Severe (207 шт.)\n",
    "\n",
    "\n",
    "Эксперт II:\n",
    "\n",
    "1. Normal (504 шт.)\n",
    "1. Doubtful (489 шт.)\n",
    "1. Mild (233 шт.)\n",
    "1. Moderate (222 шт.)\n",
    "1. Severe (207 шт.)\n",
    "\n",
    "Ссылка на данные: https://tnn-hse-medtech.storage.yandexcloud.net/datasets/"
   ],
   "metadata": {
    "collapsed": false
   }
  },
  {
   "cell_type": "markdown",
   "source": [
    "## Нужные импорты"
   ],
   "metadata": {
    "collapsed": false
   }
  },
  {
   "cell_type": "code",
   "execution_count": 12,
   "outputs": [],
   "source": [
    "import pandas as pd\n",
    "import numpy as np\n",
    "import matplotlib.pyplot as plt"
   ],
   "metadata": {
    "collapsed": false
   }
  },
  {
   "cell_type": "markdown",
   "source": [
    "## Собираем метаданные датасета"
   ],
   "metadata": {
    "collapsed": false
   }
  },
  {
   "cell_type": "code",
   "execution_count": 39,
   "outputs": [
    {
     "data": {
      "text/plain": "3300"
     },
     "execution_count": 39,
     "metadata": {},
     "output_type": "execute_result"
    }
   ],
   "source": [
    "import re\n",
    "import hashlib\n",
    "from pathlib import Path\n",
    "from dataclasses import dataclass\n",
    "\n",
    "file_pattern = re.compile(r'\\w+\\s+\\((\\d+)\\)\\.png')\n",
    "directory = Path('~/Downloads/hse/archive (1)').expanduser()\n",
    "\n",
    "@dataclass()\n",
    "class Metadata:\n",
    "    expert: str\n",
    "    file_id: str\n",
    "    severity: int\n",
    "    relative_path: str\n",
    "\n",
    "\n",
    "def parse_path(file: Path) -> Metadata:\n",
    "    data_bytes = file.read_bytes()\n",
    "    hash1 = hashlib.sha256(data_bytes).hexdigest()\n",
    "    hash2 = hashlib.md5(data_bytes).hexdigest()\n",
    "    path = file.relative_to(directory)\n",
    "    severity = str(path.parent.name)\n",
    "    expert = str(path.parent.parent.name)\n",
    "    return Metadata(expert, f'{hash1}:{hash2}', severity, str(path))\n",
    "\n",
    "raw_data = []\n",
    "for file in directory.rglob('*.png'):\n",
    "    raw_data.append(parse_path(file))\n",
    "len(raw_data)"
   ],
   "metadata": {
    "collapsed": false
   }
  },
  {
   "cell_type": "markdown",
   "source": [
    "# Формирует датасет\n"
   ],
   "metadata": {
    "collapsed": false
   }
  },
  {
   "cell_type": "code",
   "execution_count": 40,
   "outputs": [
    {
     "data": {
      "text/plain": "                expert                                            file_id  \\\n0     MedicalExpert-II  4aaa42fc773d639e09042d8ec920bf54035f75e9c582ee...   \n1     MedicalExpert-II  b411ded0928bc1ff918a1ec0eb1c288198704cfb3eb1b4...   \n2     MedicalExpert-II  d0efac1151dccaa60cb315154a0377b5ed5dac94369781...   \n3     MedicalExpert-II  7a347ac6be61298ffad51d01fa754ca81984e7b96d7c3c...   \n4     MedicalExpert-II  290079785724f5ca891e83213f480bc449b64e33c8db21...   \n...                ...                                                ...   \n3295   MedicalExpert-I  7a200b679888319db15ddd968dc576334377fda09acaf9...   \n3296   MedicalExpert-I  766f164b7594b58771ac969eb3d071951ad038dd2b6c1f...   \n3297   MedicalExpert-I  f976bbf37dce6ce8baaf4b64c9809dc79363d8614c29bc...   \n3298   MedicalExpert-I  03f9f83f5335a23d629f02343797568c44fdb41c4b3ec0...   \n3299   MedicalExpert-I  c786a66979921c3ed429cd36fcdf7597bde6bb0d08e251...   \n\n       severity                                    relative_path  \n0     1Doubtful  MedicalExpert-II/1Doubtful/DoubtfulG1 (203).png  \n1     1Doubtful  MedicalExpert-II/1Doubtful/DoubtfulG1 (346).png  \n2     1Doubtful   MedicalExpert-II/1Doubtful/DoubtfulG1 (17).png  \n3     1Doubtful  MedicalExpert-II/1Doubtful/DoubtfulG1 (254).png  \n4     1Doubtful  MedicalExpert-II/1Doubtful/DoubtfulG1 (311).png  \n...         ...                                              ...  \n3295  3Moderate    MedicalExpert-I/3Moderate/ModerateG3 (58).png  \n3296  3Moderate   MedicalExpert-I/3Moderate/ModerateG3 (123).png  \n3297  3Moderate   MedicalExpert-I/3Moderate/ModerateG3 (135).png  \n3298  3Moderate    MedicalExpert-I/3Moderate/ModerateG3 (19).png  \n3299  3Moderate   MedicalExpert-I/3Moderate/ModerateG3 (162).png  \n\n[3300 rows x 4 columns]",
      "text/html": "<div>\n<style scoped>\n    .dataframe tbody tr th:only-of-type {\n        vertical-align: middle;\n    }\n\n    .dataframe tbody tr th {\n        vertical-align: top;\n    }\n\n    .dataframe thead th {\n        text-align: right;\n    }\n</style>\n<table border=\"1\" class=\"dataframe\">\n  <thead>\n    <tr style=\"text-align: right;\">\n      <th></th>\n      <th>expert</th>\n      <th>file_id</th>\n      <th>severity</th>\n      <th>relative_path</th>\n    </tr>\n  </thead>\n  <tbody>\n    <tr>\n      <th>0</th>\n      <td>MedicalExpert-II</td>\n      <td>4aaa42fc773d639e09042d8ec920bf54035f75e9c582ee...</td>\n      <td>1Doubtful</td>\n      <td>MedicalExpert-II/1Doubtful/DoubtfulG1 (203).png</td>\n    </tr>\n    <tr>\n      <th>1</th>\n      <td>MedicalExpert-II</td>\n      <td>b411ded0928bc1ff918a1ec0eb1c288198704cfb3eb1b4...</td>\n      <td>1Doubtful</td>\n      <td>MedicalExpert-II/1Doubtful/DoubtfulG1 (346).png</td>\n    </tr>\n    <tr>\n      <th>2</th>\n      <td>MedicalExpert-II</td>\n      <td>d0efac1151dccaa60cb315154a0377b5ed5dac94369781...</td>\n      <td>1Doubtful</td>\n      <td>MedicalExpert-II/1Doubtful/DoubtfulG1 (17).png</td>\n    </tr>\n    <tr>\n      <th>3</th>\n      <td>MedicalExpert-II</td>\n      <td>7a347ac6be61298ffad51d01fa754ca81984e7b96d7c3c...</td>\n      <td>1Doubtful</td>\n      <td>MedicalExpert-II/1Doubtful/DoubtfulG1 (254).png</td>\n    </tr>\n    <tr>\n      <th>4</th>\n      <td>MedicalExpert-II</td>\n      <td>290079785724f5ca891e83213f480bc449b64e33c8db21...</td>\n      <td>1Doubtful</td>\n      <td>MedicalExpert-II/1Doubtful/DoubtfulG1 (311).png</td>\n    </tr>\n    <tr>\n      <th>...</th>\n      <td>...</td>\n      <td>...</td>\n      <td>...</td>\n      <td>...</td>\n    </tr>\n    <tr>\n      <th>3295</th>\n      <td>MedicalExpert-I</td>\n      <td>7a200b679888319db15ddd968dc576334377fda09acaf9...</td>\n      <td>3Moderate</td>\n      <td>MedicalExpert-I/3Moderate/ModerateG3 (58).png</td>\n    </tr>\n    <tr>\n      <th>3296</th>\n      <td>MedicalExpert-I</td>\n      <td>766f164b7594b58771ac969eb3d071951ad038dd2b6c1f...</td>\n      <td>3Moderate</td>\n      <td>MedicalExpert-I/3Moderate/ModerateG3 (123).png</td>\n    </tr>\n    <tr>\n      <th>3297</th>\n      <td>MedicalExpert-I</td>\n      <td>f976bbf37dce6ce8baaf4b64c9809dc79363d8614c29bc...</td>\n      <td>3Moderate</td>\n      <td>MedicalExpert-I/3Moderate/ModerateG3 (135).png</td>\n    </tr>\n    <tr>\n      <th>3298</th>\n      <td>MedicalExpert-I</td>\n      <td>03f9f83f5335a23d629f02343797568c44fdb41c4b3ec0...</td>\n      <td>3Moderate</td>\n      <td>MedicalExpert-I/3Moderate/ModerateG3 (19).png</td>\n    </tr>\n    <tr>\n      <th>3299</th>\n      <td>MedicalExpert-I</td>\n      <td>c786a66979921c3ed429cd36fcdf7597bde6bb0d08e251...</td>\n      <td>3Moderate</td>\n      <td>MedicalExpert-I/3Moderate/ModerateG3 (162).png</td>\n    </tr>\n  </tbody>\n</table>\n<p>3300 rows × 4 columns</p>\n</div>"
     },
     "execution_count": 40,
     "metadata": {},
     "output_type": "execute_result"
    }
   ],
   "source": [
    "data = pd.DataFrame(raw_data)\n",
    "data"
   ],
   "metadata": {
    "collapsed": false
   }
  },
  {
   "cell_type": "code",
   "execution_count": 17,
   "outputs": [
    {
     "data": {
      "text/plain": "expert      object\nfile_id     object\nseverity    object\ndtype: object"
     },
     "execution_count": 17,
     "metadata": {},
     "output_type": "execute_result"
    }
   ],
   "source": [
    "data.dtypes\n"
   ],
   "metadata": {
    "collapsed": false
   }
  },
  {
   "cell_type": "markdown",
   "source": [
    "# Нормализуем данные\n"
   ],
   "metadata": {
    "collapsed": false
   }
  },
  {
   "cell_type": "code",
   "execution_count": 41,
   "outputs": [],
   "source": [
    "severity_map = {\n",
    "    '0Normal': 0,\n",
    "    '1Doubtful': 1,\n",
    "    '2Mild': 2,\n",
    "    '3Moderate': 3,\n",
    "    '4Severe': 4\n",
    "}\n",
    "data['severity'] = data['severity'].map(severity_map)\n"
   ],
   "metadata": {
    "collapsed": false
   }
  },
  {
   "cell_type": "code",
   "execution_count": 42,
   "outputs": [
    {
     "data": {
      "text/plain": "                  expert                                            file_id  \\\ncount               3300                                               3300   \nunique                 2                                               1633   \ntop     MedicalExpert-II  197ee4a082d0ecd02972532453a8a7aaff300c2348352c...   \nfreq                1650                                                  6   \n\n                                          relative_path  \ncount                                              3300  \nunique                                             3300  \ntop     MedicalExpert-II/1Doubtful/DoubtfulG1 (203).png  \nfreq                                                  1  ",
      "text/html": "<div>\n<style scoped>\n    .dataframe tbody tr th:only-of-type {\n        vertical-align: middle;\n    }\n\n    .dataframe tbody tr th {\n        vertical-align: top;\n    }\n\n    .dataframe thead th {\n        text-align: right;\n    }\n</style>\n<table border=\"1\" class=\"dataframe\">\n  <thead>\n    <tr style=\"text-align: right;\">\n      <th></th>\n      <th>expert</th>\n      <th>file_id</th>\n      <th>relative_path</th>\n    </tr>\n  </thead>\n  <tbody>\n    <tr>\n      <th>count</th>\n      <td>3300</td>\n      <td>3300</td>\n      <td>3300</td>\n    </tr>\n    <tr>\n      <th>unique</th>\n      <td>2</td>\n      <td>1633</td>\n      <td>3300</td>\n    </tr>\n    <tr>\n      <th>top</th>\n      <td>MedicalExpert-II</td>\n      <td>197ee4a082d0ecd02972532453a8a7aaff300c2348352c...</td>\n      <td>MedicalExpert-II/1Doubtful/DoubtfulG1 (203).png</td>\n    </tr>\n    <tr>\n      <th>freq</th>\n      <td>1650</td>\n      <td>6</td>\n      <td>1</td>\n    </tr>\n  </tbody>\n</table>\n</div>"
     },
     "execution_count": 42,
     "metadata": {},
     "output_type": "execute_result"
    }
   ],
   "source": [
    "data.describe(include='object')"
   ],
   "metadata": {
    "collapsed": false
   }
  },
  {
   "cell_type": "code",
   "execution_count": 44,
   "outputs": [
    {
     "data": {
      "text/plain": "1471    MedicalExpert-II/3Moderate/ModerateG3 (208).png\n1489    MedicalExpert-II/3Moderate/ModerateG3 (203).png\n1631    MedicalExpert-II/3Moderate/ModerateG3 (206).png\n3121     MedicalExpert-I/3Moderate/ModerateG3 (208).png\n3139     MedicalExpert-I/3Moderate/ModerateG3 (203).png\n3281     MedicalExpert-I/3Moderate/ModerateG3 (206).png\nName: relative_path, dtype: object"
     },
     "execution_count": 44,
     "metadata": {},
     "output_type": "execute_result"
    }
   ],
   "source": [
    "data[data['file_id'] == '197ee4a082d0ecd02972532453a8a7aaff300c2348352c866a1dba15cbb2554d:f0dc21fa5616728d830149fd3d0513bd']['relative_path']"
   ],
   "metadata": {
    "collapsed": false
   }
  },
  {
   "cell_type": "code",
   "execution_count": 34,
   "outputs": [
    {
     "data": {
      "text/plain": "expert                                              MedicalExpert-I  \\\nfile_id                                                               \n000555ee2250db28d7ccb076cd8ed02dc46ad1492552318...              0.0   \n001a4766d9a9cc32c1d7bc65b6a6d6fa6f18a5540f576e2...              3.0   \n00439f2700963bfc89ab72a4fe7711299228d8db3fd4cb2...              2.0   \n005c7b80497f04a63b685eafe6797d672754684a9317ac5...              2.0   \n00668822b6f82a52fd186a0d8583f3e276bab809b32b715...              1.0   \n...                                                             ...   \nfe910f9f5eea10fe03f6b8dbc10c4a318b55053aaa580bd...              3.0   \nfecd647553be61596154b3766dbe39a5d3b2b9fb2edede5...              3.0   \nff49383c140e3cd433c0ed3d52c923378a7958482dd4e20...              1.0   \nff4bbd6aa27f3cf0e5d4ad3e2e83c025c16a8b372a82a0d...              0.0   \nffc764e0d9ce72d7e9032a98b5cbc5339d63ebf03e3dcd7...              2.0   \n\nexpert                                              MedicalExpert-II  \nfile_id                                                               \n000555ee2250db28d7ccb076cd8ed02dc46ad1492552318...               0.0  \n001a4766d9a9cc32c1d7bc65b6a6d6fa6f18a5540f576e2...               3.0  \n00439f2700963bfc89ab72a4fe7711299228d8db3fd4cb2...               2.0  \n005c7b80497f04a63b685eafe6797d672754684a9317ac5...               2.0  \n00668822b6f82a52fd186a0d8583f3e276bab809b32b715...               1.0  \n...                                                              ...  \nfe910f9f5eea10fe03f6b8dbc10c4a318b55053aaa580bd...               3.0  \nfecd647553be61596154b3766dbe39a5d3b2b9fb2edede5...               3.0  \nff49383c140e3cd433c0ed3d52c923378a7958482dd4e20...               1.0  \nff4bbd6aa27f3cf0e5d4ad3e2e83c025c16a8b372a82a0d...               0.0  \nffc764e0d9ce72d7e9032a98b5cbc5339d63ebf03e3dcd7...               2.0  \n\n[1633 rows x 2 columns]",
      "text/html": "<div>\n<style scoped>\n    .dataframe tbody tr th:only-of-type {\n        vertical-align: middle;\n    }\n\n    .dataframe tbody tr th {\n        vertical-align: top;\n    }\n\n    .dataframe thead th {\n        text-align: right;\n    }\n</style>\n<table border=\"1\" class=\"dataframe\">\n  <thead>\n    <tr style=\"text-align: right;\">\n      <th>expert</th>\n      <th>MedicalExpert-I</th>\n      <th>MedicalExpert-II</th>\n    </tr>\n    <tr>\n      <th>file_id</th>\n      <th></th>\n      <th></th>\n    </tr>\n  </thead>\n  <tbody>\n    <tr>\n      <th>000555ee2250db28d7ccb076cd8ed02dc46ad1492552318a10cb98b75cf3d67c</th>\n      <td>0.0</td>\n      <td>0.0</td>\n    </tr>\n    <tr>\n      <th>001a4766d9a9cc32c1d7bc65b6a6d6fa6f18a5540f576e2f73217ece4b7ef50e</th>\n      <td>3.0</td>\n      <td>3.0</td>\n    </tr>\n    <tr>\n      <th>00439f2700963bfc89ab72a4fe7711299228d8db3fd4cb26eb92d6d8c2d1194b</th>\n      <td>2.0</td>\n      <td>2.0</td>\n    </tr>\n    <tr>\n      <th>005c7b80497f04a63b685eafe6797d672754684a9317ac51afbdcfab5ee481bf</th>\n      <td>2.0</td>\n      <td>2.0</td>\n    </tr>\n    <tr>\n      <th>00668822b6f82a52fd186a0d8583f3e276bab809b32b7153d4d0fc57c77ec7f8</th>\n      <td>1.0</td>\n      <td>1.0</td>\n    </tr>\n    <tr>\n      <th>...</th>\n      <td>...</td>\n      <td>...</td>\n    </tr>\n    <tr>\n      <th>fe910f9f5eea10fe03f6b8dbc10c4a318b55053aaa580bd4cadb44dd463be5b6</th>\n      <td>3.0</td>\n      <td>3.0</td>\n    </tr>\n    <tr>\n      <th>fecd647553be61596154b3766dbe39a5d3b2b9fb2edede5f0ff9c58607d69b2b</th>\n      <td>3.0</td>\n      <td>3.0</td>\n    </tr>\n    <tr>\n      <th>ff49383c140e3cd433c0ed3d52c923378a7958482dd4e2075401b7f4b69b8f60</th>\n      <td>1.0</td>\n      <td>1.0</td>\n    </tr>\n    <tr>\n      <th>ff4bbd6aa27f3cf0e5d4ad3e2e83c025c16a8b372a82a0d7dc5df92866c035b0</th>\n      <td>0.0</td>\n      <td>0.0</td>\n    </tr>\n    <tr>\n      <th>ffc764e0d9ce72d7e9032a98b5cbc5339d63ebf03e3dcd798ea0999784ea187a</th>\n      <td>2.0</td>\n      <td>2.0</td>\n    </tr>\n  </tbody>\n</table>\n<p>1633 rows × 2 columns</p>\n</div>"
     },
     "execution_count": 34,
     "metadata": {},
     "output_type": "execute_result"
    }
   ],
   "source": [
    "data.pivot_table(index='file_id', columns='expert', values='severity')\n"
   ],
   "metadata": {
    "collapsed": false
   }
  },
  {
   "cell_type": "code",
   "execution_count": null,
   "outputs": [],
   "source": [],
   "metadata": {
    "collapsed": false
   }
  }
 ],
 "metadata": {
  "kernelspec": {
   "display_name": "Python 3",
   "language": "python",
   "name": "python3"
  },
  "language_info": {
   "codemirror_mode": {
    "name": "ipython",
    "version": 2
   },
   "file_extension": ".py",
   "mimetype": "text/x-python",
   "name": "python",
   "nbconvert_exporter": "python",
   "pygments_lexer": "ipython2",
   "version": "2.7.6"
  }
 },
 "nbformat": 4,
 "nbformat_minor": 0
}
